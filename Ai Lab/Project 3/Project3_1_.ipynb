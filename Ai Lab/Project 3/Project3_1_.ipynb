{
  "nbformat": 4,
  "nbformat_minor": 0,
  "metadata": {
    "colab": {
      "provenance": []
    },
    "kernelspec": {
      "name": "python3",
      "display_name": "Python 3"
    },
    "language_info": {
      "name": "python"
    }
  },
  "cells": [
    {
      "cell_type": "markdown",
      "source": [
        "**Starting to use pathlib**\n",
        "\n",
        "The first step is to import the Path class from pathlib module with the from pathlib import Path statement. This single import gives you access to a powerful set of tools for path manipulation and file system operations."
      ],
      "metadata": {
        "id": "fyWyg5nGwbQ2"
      }
    },
    {
      "cell_type": "code",
      "execution_count": null,
      "metadata": {
        "id": "qj5p4IBuwX7l"
      },
      "outputs": [],
      "source": [
        "from pathlib import Path"
      ]
    },
    {
      "cell_type": "markdown",
      "source": [
        "Let's access the home directory with Path.home(). Note that method-based operation is cross-platform, thus the same code will work the same regardless of the operating system."
      ],
      "metadata": {
        "id": "AWOel-GLwgBs"
      }
    },
    {
      "cell_type": "code",
      "source": [
        "home_directory = Path.home()\n",
        "print(home_directory)"
      ],
      "metadata": {
        "id": "uSHSYsC4wh4k"
      },
      "execution_count": null,
      "outputs": []
    },
    {
      "cell_type": "markdown",
      "source": [
        "Now it's your turn to try to use the Path class to explore the file system.\n",
        "\n",
        "**Task 3.1.1: Find the current working directory using the cwd method on Path. **"
      ],
      "metadata": {
        "id": "KOgbrOZXwkS0"
      }
    },
    {
      "cell_type": "code",
      "source": [
        "current_working_directory = Path.cwd()\n",
        "print(current_working_directory)"
      ],
      "metadata": {
        "id": "eNm7_oxrwqnj"
      },
      "execution_count": null,
      "outputs": []
    },
    {
      "cell_type": "markdown",
      "source": [
        "***The forward slash (/) operator***\n",
        "\n",
        "The forward slash (/) operator in pathlib is used for path joining. The / operator allows you to combine multiple Path objects or strings to create new paths. It automatically uses the correct path separator for the current operating system (/ for Unix-based systems and \\ for Windows). As a result, the same code can run on different operating systems without any rewriting.\n",
        "\n",
        "Below is an example of creating a variable that combines a Path object with several other elements. Note that since this only is a variable right now, it does not need to reference an actual location."
      ],
      "metadata": {
        "id": "7EtlAKCFwsUb"
      }
    },
    {
      "cell_type": "code",
      "source": [
        "path = Path(\"folder\") / \"subfolder\" / \"file.txt\"\n",
        "print(path)"
      ],
      "metadata": {
        "id": "1NJ043hPwwtU"
      },
      "execution_count": null,
      "outputs": []
    },
    {
      "cell_type": "markdown",
      "source": [
        "**Task 3.1.2: Create a variable that defines a folder named \"scripts\" in the current directory.**"
      ],
      "metadata": {
        "id": "0DwUc3ghwyc8"
      }
    },
    {
      "cell_type": "code",
      "source": [
        "current_working_directory = Path.cwd()\n",
        "scripts_path = Path(\"scripts\")\n",
        "print(scripts_path)"
      ],
      "metadata": {
        "id": "xccFcQldwzhk"
      },
      "execution_count": null,
      "outputs": []
    },
    {
      "cell_type": "markdown",
      "source": [
        "Python Path objects are different from Python strings (str). The addition operator (+) for Python string does not work with Python Path objects. The forward slash (/) operator has to be used with Python Path objects.\n",
        "\n",
        "\n",
        "\n",
        "\n",
        "\n",
        "\n",
        "\n",
        "**Task 3.1.3: Change the operator to work with a Python Path object.**"
      ],
      "metadata": {
        "id": "FLE7QIlzw2lc"
      }
    },
    {
      "cell_type": "code",
      "source": [
        "path = Path(\"scripts\") / \"tests\"  /\"tests.py\"\n",
        "print(path)"
      ],
      "metadata": {
        "id": "s7QiQ4vfw5yU"
      },
      "execution_count": null,
      "outputs": []
    },
    {
      "cell_type": "markdown",
      "source": [
        "**Absolute vs. Relative Path**s\n",
        "\n",
        "When working with paths, it's important to understand the distinction between absolute and relative paths. Absolute paths provide the complete route from the root directory to the specified location, while relative paths are based on the current working directory. pathlib allows you to create both types: an absolute path might look like Path('/home/jovyan') and a relative path could be Path('03-traffic-in-dhaka/lessons'). Note that a relative path doesn't start with a root directory indicator (like \"/\" on Unix-based systems or \"C:\" on Windows).\n",
        "\n",
        "Below is an example of converting a relative path to an absolute path by prepending the absolute path to the beginning of the relative path."
      ],
      "metadata": {
        "id": "diTxFDAGw74U"
      }
    },
    {
      "cell_type": "code",
      "source": [
        "relative_path = Path(\"config\", \"settings\")\n",
        "absolute_path = Path.home() / relative_path\n",
        "print(absolute_path)"
      ],
      "metadata": {
        "id": "09SJBkThw-yN"
      },
      "execution_count": null,
      "outputs": []
    },
    {
      "cell_type": "markdown",
      "source": [
        "**Task 3.1.4: Convert a relative path to an absolute path based on Path.cwd().**"
      ],
      "metadata": {
        "id": "y76wiwePxBMc"
      }
    },
    {
      "cell_type": "code",
      "source": [
        "relative_path = Path(\"scripts\", \"tests\")\n",
        "absolute_path = path.home()/ relative_path\n",
        "print(absolute_path)"
      ],
      "metadata": {
        "id": "DhRsclfkxApc"
      },
      "execution_count": null,
      "outputs": []
    },
    {
      "cell_type": "markdown",
      "source": [
        "**Listing directory contents**\n",
        "\n",
        "Instances of the Path class have the iterdir method which iterates over the contents, files and subdirectories, of a given directory. Calling the iterdir method returns an iterator that doesn't load all the results into memory at once.\n",
        "\n",
        "Below is an example of using the iterdir method."
      ],
      "metadata": {
        "id": "aL7omJ9sxGWE"
      }
    },
    {
      "cell_type": "code",
      "source": [
        "current_working_directory = Path.cwd()\n",
        "print(current_working_directory.iterdir())"
      ],
      "metadata": {
        "id": "Acu1yhHjxHzc"
      },
      "execution_count": null,
      "outputs": []
    },
    {
      "cell_type": "code",
      "source": [
        "current_working_directory = Path.cwd()\n",
        "for item in current_working_directory.iterdir():\n",
        "    print(item)"
      ],
      "metadata": {
        "id": "QuKUA5UWxLxk"
      },
      "execution_count": null,
      "outputs": []
    },
    {
      "cell_type": "markdown",
      "source": [
        "**Task 3.1.5: Fix the code to get the number elements in the current directory with len.**"
      ],
      "metadata": {
        "id": "26F1tQLlxTzk"
      }
    },
    {
      "cell_type": "code",
      "source": [
        "current_dir_iter = Path.cwd().iterdir()\n",
        "\n",
        "# Fix the code\n",
        "num_elements = len(list(current_dir_iter))"
      ],
      "metadata": {
        "id": "HqbGzKQsxVL1"
      },
      "execution_count": null,
      "outputs": []
    },
    {
      "cell_type": "markdown",
      "source": [
        "**Making directories**\n",
        "\n",
        "The pathlib module has a convenient way to create a new directory. Create an instance of a Path class that specifies the location of this new directory, then call the mkdir method to actually create it.\n",
        "\n",
        "Below is an example of how this is done. If this cell is run twice it will generate a FileExistsError."
      ],
      "metadata": {
        "id": "nCGivte4xYVs"
      }
    },
    {
      "cell_type": "code",
      "source": [
        "scripts_dir = Path.cwd() / \"scripts\"\n",
        "scripts_dir.mkdir()"
      ],
      "metadata": {
        "id": "gQBbfqdjxYFL"
      },
      "execution_count": null,
      "outputs": []
    },
    {
      "cell_type": "markdown",
      "source": [
        "Adding the keyword argument exist_ok=True prevents raising an error if the directory already exists."
      ],
      "metadata": {
        "id": "EsrldY93xfvc"
      }
    },
    {
      "cell_type": "code",
      "source": [
        "scripts_dir = Path.cwd() / \"scripts\"\n",
        "scripts_dir.mkdir(exist_ok=True)"
      ],
      "metadata": {
        "id": "56XJjrqJxdgM"
      },
      "execution_count": null,
      "outputs": []
    },
    {
      "cell_type": "markdown",
      "source": [
        "**Glob patterns**\n",
        "\n",
        "Glob allows you to search for files and directories using wildcard patterns, making it handy to find files with certain suffixes. We can use the glob to find all the TrueType font (.ttf) files in the current directory."
      ],
      "metadata": {
        "id": "LJzOSrpOxidz"
      }
    },
    {
      "cell_type": "code",
      "source": [
        "current_working_directory = Path.cwd()\n",
        "all_ttf_files = current_working_directory.glob(\"*.ttf\")\n",
        "for file in all_ttf_files:\n",
        "    print(file)"
      ],
      "metadata": {
        "id": "NtPd5cRbxkHM"
      },
      "execution_count": null,
      "outputs": []
    },
    {
      "cell_type": "markdown",
      "source": [
        "**Task 3.1.7: Find all the Jupyter Notebooks (.ipynb) in the current directory.**"
      ],
      "metadata": {
        "id": "LtQsr1g1xm60"
      }
    },
    {
      "cell_type": "code",
      "source": [
        "current_working_directory = Path.cwd()\n",
        "all_ipynb_files = current_working_directory.glob(\"*.ipynb\")\n",
        "for file in all_ipynb_files:\n",
        "    print(file)"
      ],
      "metadata": {
        "id": "k0p0lXBexpN8"
      },
      "execution_count": null,
      "outputs": []
    },
    {
      "cell_type": "markdown",
      "source": [
        "\n",
        "In summary, the `pathlib` module provides a powerful and intuitive way to work with file systems in Python. The module's object-oriented approach to handling paths simplifies common operations like listing directory contents, creating directories, and searching for files.\n"
      ],
      "metadata": {
        "id": "39JrvfH4xt8E"
      }
    }
  ]
}
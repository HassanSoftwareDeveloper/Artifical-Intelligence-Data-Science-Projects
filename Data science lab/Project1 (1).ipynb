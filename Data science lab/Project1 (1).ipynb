{
  "nbformat": 4,
  "nbformat_minor": 0,
  "metadata": {
    "colab": {
      "provenance": []
    },
    "kernelspec": {
      "name": "python3",
      "display_name": "Python 3"
    },
    "language_info": {
      "name": "python"
    }
  },
  "cells": [
    {
      "cell_type": "markdown",
      "source": [
        "Lesson 1. Organizing Tabular Data in Python\n",
        "\n",
        "Open your lab environment and navigate to 011-tabular-and-tidy-data.ipynb notebook.\n",
        "\n",
        "Follow the instructions directly within the notebook\n",
        "\n",
        "Task descriptions are embedded in the notebook itself\n",
        "\n",
        "No need to use any \"Check Activity\" button\n",
        "\n",
        "Lesson notebooks are for learning and are not graded"
      ],
      "metadata": {
        "id": "VjqFHdjkdLTX"
      }
    },
    {
      "cell_type": "markdown",
      "source": [
        "When working with this sort of tabular data, it's important to organize row and columns following the principles of \"tidy data.\" What does that mean in the case of our dataset?\n",
        "\n",
        "Each row corresponds to a single house in our dataset. We'll call each of these houses an observation.\n",
        "\n",
        "Each column corresponds to a characteristic of each house. We'll call these features.\n",
        "\n",
        "Each cell contains only one value."
      ],
      "metadata": {
        "id": "oM7rvHIjdpOo"
      }
    },
    {
      "cell_type": "code",
      "source": [
        "# Declare variable `house_0_list`\n",
        "house_0_list = [115910.26, 128, 4]\n",
        "\n",
        "# Print object type of `house_0_list`\n",
        "# (We'll learn more about object types in later projects 😉)\n",
        "print(\"house_0_list type:\", type(house_0_list))\n",
        "\n",
        "# Print length of `house_0_list`\n",
        "print(\"house_0_list length:\", len(house_0_list))\n",
        "\n",
        "# Get output of `house_0_list`\n",
        "house_0_list"
      ],
      "metadata": {
        "colab": {
          "base_uri": "https://localhost:8080/"
        },
        "id": "PJGlCtm-dQ7f",
        "outputId": "92799861-21ce-40b1-f756-99cc4620ec2e"
      },
      "execution_count": 1,
      "outputs": [
        {
          "output_type": "stream",
          "name": "stdout",
          "text": [
            "house_0_list type: <class 'list'>\n",
            "house_0_list length: 3\n"
          ]
        },
        {
          "output_type": "execute_result",
          "data": {
            "text/plain": [
              "[115910.26, 128, 4]"
            ]
          },
          "metadata": {},
          "execution_count": 1
        }
      ]
    },
    {
      "cell_type": "markdown",
      "source": [
        "**Task 1.1.1: One metric that people in the real estate industry look at is price per square meter because it allows them to compare houses of different sizes.Can you use the information in this list to calculate the price per square meter for house_0?**"
      ],
      "metadata": {
        "id": "EAc1_a5keH8o"
      }
    },
    {
      "cell_type": "code",
      "execution_count": 2,
      "metadata": {
        "colab": {
          "base_uri": "https://localhost:8080/"
        },
        "id": "KCTCgXDDdFUO",
        "outputId": "6bb6c064-b69d-4d07-d5c4-1cf1092e7725"
      },
      "outputs": [
        {
          "output_type": "stream",
          "name": "stdout",
          "text": [
            "house_0_price_m2 type: <class 'list'>\n"
          ]
        },
        {
          "output_type": "execute_result",
          "data": {
            "text/plain": [
              "[1552.45, 128, 4]"
            ]
          },
          "metadata": {},
          "execution_count": 2
        }
      ],
      "source": [
        "# Declare variable `house_0_price_m2`\n",
        "house_0_price_m2 = [1552.45,128,4]\n",
        "\n",
        "# Print object type of `house_0_price_m2`\n",
        "print(\"house_0_price_m2 type:\", type(house_0_price_m2))\n",
        "\n",
        "# Get output of `house_0_price_m2`\n",
        "house_0_price_m2"
      ]
    },
    {
      "cell_type": "code",
      "source": [
        "# Declare variable `house_0_price_m2`\n",
        "house_0_price_m2 = house_0_list[0]/house_0_list[1]\n",
        "# Print object type of `house_0_price_m2`\n",
        "print(\"house_0_price_m2 type:\", type(house_0_price_m2))\n",
        "\n",
        "# Get output of `house_0_price_m2`\n",
        "house_0_price_m2"
      ],
      "metadata": {
        "colab": {
          "base_uri": "https://localhost:8080/"
        },
        "id": "u_nIZ27GfKlq",
        "outputId": "a82eb57b-7b66-4ead-be17-a1aa6aba2baf"
      },
      "execution_count": 3,
      "outputs": [
        {
          "output_type": "stream",
          "name": "stdout",
          "text": [
            "house_0_price_m2 type: <class 'float'>\n"
          ]
        },
        {
          "output_type": "execute_result",
          "data": {
            "text/plain": [
              "905.54890625"
            ]
          },
          "metadata": {},
          "execution_count": 3
        }
      ]
    },
    {
      "cell_type": "markdown",
      "source": [
        "**Task 1.1.2: Next, use the append method to add the price per square meter to the end of the end of house_0.**"
      ],
      "metadata": {
        "id": "bEw_qYDTfalf"
      }
    },
    {
      "cell_type": "code",
      "source": [
        "# Append price / sq. meter to `house_0_list`\n",
        "house_0_list.append(house_0_price_m2)\n",
        "# Print object type of `house_0_list`\n",
        "print(\"house_0_list type:\", type(house_0_list))\n",
        "\n",
        "# Print length of `house_0_list`\n",
        "print(\"house_0_list length:\", len(house_0_list))\n",
        "\n",
        "# Get output of `house_0_list`\n",
        "house_0_list"
      ],
      "metadata": {
        "colab": {
          "base_uri": "https://localhost:8080/"
        },
        "id": "7NwOu1DZdSE4",
        "outputId": "9f2def7f-7f84-4b87-dfab-892dad6a9764"
      },
      "execution_count": 4,
      "outputs": [
        {
          "output_type": "stream",
          "name": "stdout",
          "text": [
            "house_0_list type: <class 'list'>\n",
            "house_0_list length: 4\n"
          ]
        },
        {
          "output_type": "execute_result",
          "data": {
            "text/plain": [
              "[115910.26, 128, 4, 905.54890625]"
            ]
          },
          "metadata": {},
          "execution_count": 4
        }
      ]
    },
    {
      "cell_type": "markdown",
      "source": [
        "Now that you can work with data for a single house, let's think about how to organize the whole dataset. One option would be to create a list for each observation and then put those together in another list. This is called a nested list."
      ],
      "metadata": {
        "id": "M-4m0MsNfhC9"
      }
    },
    {
      "cell_type": "code",
      "source": [
        "# Declare variable `houses_nested_list`\n",
        "houses_nested_list = [\n",
        "    [115910.26, 128.0, 4.0],\n",
        "    [48718.17, 210.0, 3.0],\n",
        "    [28977.56, 58.0, 2.0],\n",
        "    [36932.27, 79.0, 3.0],\n",
        "    [83903.51, 111.0, 3.0],\n",
        "]\n",
        "\n",
        "# Print `houses_nested_list` type\n",
        "print(\"houses_nested_list type:\", type(houses_nested_list))\n",
        "\n",
        "# Print `houses_nested_list` length\n",
        "print(\"houses_nested_list length:\", len(houses_nested_list))\n",
        "\n",
        "# Get output of `houses_nested_list`\n",
        "houses_nested_list"
      ],
      "metadata": {
        "colab": {
          "base_uri": "https://localhost:8080/"
        },
        "id": "yJDVit2zflIb",
        "outputId": "e8871145-7b69-4596-abf8-6fbc1e6ae7bf"
      },
      "execution_count": 5,
      "outputs": [
        {
          "output_type": "stream",
          "name": "stdout",
          "text": [
            "houses_nested_list type: <class 'list'>\n",
            "houses_nested_list length: 5\n"
          ]
        },
        {
          "output_type": "execute_result",
          "data": {
            "text/plain": [
              "[[115910.26, 128.0, 4.0],\n",
              " [48718.17, 210.0, 3.0],\n",
              " [28977.56, 58.0, 2.0],\n",
              " [36932.27, 79.0, 3.0],\n",
              " [83903.51, 111.0, 3.0]]"
            ]
          },
          "metadata": {},
          "execution_count": 5
        }
      ]
    },
    {
      "cell_type": "markdown",
      "source": [
        "**Task 1.1.3: Append the price per square meter to each observation in houses_nested_list using a for loop.**"
      ],
      "metadata": {
        "id": "7HuK4Vf-gb-Q"
      }
    },
    {
      "cell_type": "code",
      "source": [
        "\n",
        "# Create for loop to iterate through `houses_nested_list`\n",
        "for house in  houses_nested_list:\n",
        "    # For each observation, append price / sq. meter\n",
        "    price_m2=house[0]/house[1]\n",
        "    house.append(price_m2)\n",
        "# Print `houses_nested_list` type\n",
        "print(\"houses_nested_list type:\", type(houses_nested_list))\n",
        "\n",
        "# Print `houses_nested_list` length\n",
        "print(\"houses_nested_list length:\", len(houses_nested_list))\n",
        "\n",
        "# Get output of `houses_nested_list`\n",
        "houses_nested_list"
      ],
      "metadata": {
        "colab": {
          "base_uri": "https://localhost:8080/"
        },
        "id": "ULplJTrugDUT",
        "outputId": "7e173e3f-b54b-4a74-80f4-b2bcfabda042"
      },
      "execution_count": 8,
      "outputs": [
        {
          "output_type": "stream",
          "name": "stdout",
          "text": [
            "houses_nested_list type: <class 'list'>\n",
            "houses_nested_list length: 5\n"
          ]
        },
        {
          "output_type": "execute_result",
          "data": {
            "text/plain": [
              "[[115910.26, 128.0, 4.0, 905.54890625, 905.54890625, 905.54890625],\n",
              " [48718.17,\n",
              "  210.0,\n",
              "  3.0,\n",
              "  231.9912857142857,\n",
              "  231.9912857142857,\n",
              "  231.9912857142857],\n",
              " [28977.56,\n",
              "  58.0,\n",
              "  2.0,\n",
              "  499.61310344827587,\n",
              "  499.61310344827587,\n",
              "  499.61310344827587],\n",
              " [36932.27,\n",
              "  79.0,\n",
              "  3.0,\n",
              "  467.4970886075949,\n",
              "  467.4970886075949,\n",
              "  467.4970886075949],\n",
              " [83903.51,\n",
              "  111.0,\n",
              "  3.0,\n",
              "  755.8874774774774,\n",
              "  755.8874774774774,\n",
              "  755.8874774774774]]"
            ]
          },
          "metadata": {},
          "execution_count": 8
        }
      ]
    },
    {
      "cell_type": "markdown",
      "source": [
        "** working with dictionary**\n",
        "\n",
        "Lists are a good way to organize data, but one drawback is that we can only represent values. Why is that a problem? For example, someone looking at [115910.26, 128.0, 4] wouldn't know which values corresponded to price, area, etc. A better option might be a dictionary, where each value is associated with a key. Here's what house_0 looks like as a dictionary instead of a list."
      ],
      "metadata": {
        "id": "Zmi23nomgpnF"
      }
    },
    {
      "cell_type": "code",
      "source": [
        "# Declare variable `house_0_dict`\n",
        "house_0_dict = {\n",
        "    \"price_approx_usd\": 115910.26,\n",
        "    \"surface_covered_in_m2\": 128,\n",
        "    \"rooms\": 4,\n",
        "}\n",
        "\n",
        "# Print `house_0_dict` type\n",
        "print(\"house_0_dict type:\", type(house_0_dict))\n",
        "\n",
        "# Get output of `house_0_dict`\n",
        "house_0_dict"
      ],
      "metadata": {
        "colab": {
          "base_uri": "https://localhost:8080/"
        },
        "id": "n3_-2-TygxWO",
        "outputId": "8121a9a5-6096-49c0-b6bf-c052ce33e7ed"
      },
      "execution_count": 10,
      "outputs": [
        {
          "output_type": "stream",
          "name": "stdout",
          "text": [
            "house_0_dict type: <class 'dict'>\n"
          ]
        },
        {
          "output_type": "execute_result",
          "data": {
            "text/plain": [
              "{'price_approx_usd': 115910.26, 'surface_covered_in_m2': 128, 'rooms': 4}"
            ]
          },
          "metadata": {},
          "execution_count": 10
        }
      ]
    },
    {
      "cell_type": "markdown",
      "source": [
        "**Task 1.1.4: Calculate the price per square meter for house_0 and add it to the dictionary under the key \"price_per_m2\".**"
      ],
      "metadata": {
        "id": "hR7b9OuZhQ7X"
      }
    },
    {
      "cell_type": "code",
      "source": [
        "# Add \"price_per_m2\" key-value pair to `house_0_dict`\n",
        "\n",
        "house_0_dict[\"price_per_m2\"] = house_0_dict[\"price_approx_usd\"]  / house_0_dict[\"surface_covered_in_m2\"]\n",
        "\n",
        "\n",
        "# Get output of `house_0_dict`\n",
        "house_0_dict"
      ],
      "metadata": {
        "colab": {
          "base_uri": "https://localhost:8080/"
        },
        "id": "3sViDcDRhPdH",
        "outputId": "8117bdf5-f0d0-45d7-eb57-e51da16057b0"
      },
      "execution_count": 11,
      "outputs": [
        {
          "output_type": "execute_result",
          "data": {
            "text/plain": [
              "{'price_approx_usd': 115910.26,\n",
              " 'surface_covered_in_m2': 128,\n",
              " 'rooms': 4,\n",
              " 'price_per_m2': 905.54890625}"
            ]
          },
          "metadata": {},
          "execution_count": 11
        }
      ]
    },
    {
      "cell_type": "markdown",
      "source": [
        "If we wanted to combine all our observations together, the best way would be to create a list of dictionaries."
      ],
      "metadata": {
        "id": "3wUnw9ZJhxtC"
      }
    },
    {
      "cell_type": "code",
      "source": [
        "# Declare variable `houses_rowwise`\n",
        "houses_rowwise = [\n",
        "    {\n",
        "        \"price_approx_usd\": 115910.26,\n",
        "        \"surface_covered_in_m2\": 128,\n",
        "        \"rooms\": 4,\n",
        "    },\n",
        "    {\n",
        "        \"price_approx_usd\": 48718.17,\n",
        "        \"surface_covered_in_m2\": 210,\n",
        "        \"rooms\": 3,\n",
        "    },\n",
        "    {\n",
        "        \"price_approx_usd\": 28977.56,\n",
        "        \"surface_covered_in_m2\": 58,\n",
        "        \"rooms\": 2,\n",
        "    },\n",
        "    {\n",
        "        \"price_approx_usd\": 36932.27,\n",
        "        \"surface_covered_in_m2\": 79,\n",
        "        \"rooms\": 3,\n",
        "    },\n",
        "    {\n",
        "        \"price_approx_usd\": 83903.51,\n",
        "        \"surface_covered_in_m2\": 111,\n",
        "        \"rooms\": 3,\n",
        "    },\n",
        "]\n",
        "\n",
        "# Print `houses_rowwise` object type\n",
        "print(\"houses_rowwise type:\", type(houses_rowwise))\n",
        "\n",
        "# Print `houses_rowwise` length\n",
        "print(\"houses_rowwise length:\", len(houses_rowwise))\n",
        "\n",
        "# Get output of `houses_rowwise`\n",
        "houses_rowwise"
      ],
      "metadata": {
        "colab": {
          "base_uri": "https://localhost:8080/"
        },
        "id": "bqqNLg4whnq1",
        "outputId": "8e2b4a0e-6131-431e-9c1a-a209de6e7e24"
      },
      "execution_count": 12,
      "outputs": [
        {
          "output_type": "stream",
          "name": "stdout",
          "text": [
            "houses_rowwise type: <class 'list'>\n",
            "houses_rowwise length: 5\n"
          ]
        },
        {
          "output_type": "execute_result",
          "data": {
            "text/plain": [
              "[{'price_approx_usd': 115910.26, 'surface_covered_in_m2': 128, 'rooms': 4},\n",
              " {'price_approx_usd': 48718.17, 'surface_covered_in_m2': 210, 'rooms': 3},\n",
              " {'price_approx_usd': 28977.56, 'surface_covered_in_m2': 58, 'rooms': 2},\n",
              " {'price_approx_usd': 36932.27, 'surface_covered_in_m2': 79, 'rooms': 3},\n",
              " {'price_approx_usd': 83903.51, 'surface_covered_in_m2': 111, 'rooms': 3}]"
            ]
          },
          "metadata": {},
          "execution_count": 12
        }
      ]
    },
    {
      "cell_type": "code",
      "source": [],
      "metadata": {
        "id": "xq31yuxdigH3"
      },
      "execution_count": null,
      "outputs": []
    },
    {
      "cell_type": "markdown",
      "source": [
        "**Task 1.1.5: Using a for loop, calculate the price per square meter and store the result under a \"price_per_m2\" key for each observation in houses_rowwise.**"
      ],
      "metadata": {
        "id": "eFTMCgUhh-XB"
      }
    },
    {
      "cell_type": "code",
      "source": [
        "# Create for loop to iterate through `houses_rowwise`\n",
        "\n",
        "    # For each observation, add \"price_per_m2\" key-value pair\n",
        "for house in houses_rowwise:\n",
        "    house[\"price_per_m2\"] = house[\"price_approx_usd\"] / house[\"surface_covered_in_m2\"]\n",
        "\n",
        "\n",
        "# Print `houses_rowwise` object type\n",
        "print(\"houses_rowwise type:\", type(houses_rowwise))\n",
        "\n",
        "# Print `houses_rowwise` length\n",
        "print(\"houses_rowwise length:\", len(houses_rowwise))\n",
        "\n",
        "# Get output of `houses_rowwise`\n",
        "houses_rowwise"
      ],
      "metadata": {
        "colab": {
          "base_uri": "https://localhost:8080/"
        },
        "id": "1fJ1H9BKh25Q",
        "outputId": "a3fea8a2-65af-4f72-ce4f-5ce227577b9c"
      },
      "execution_count": 13,
      "outputs": [
        {
          "output_type": "stream",
          "name": "stdout",
          "text": [
            "houses_rowwise type: <class 'list'>\n",
            "houses_rowwise length: 5\n"
          ]
        },
        {
          "output_type": "execute_result",
          "data": {
            "text/plain": [
              "[{'price_approx_usd': 115910.26,\n",
              "  'surface_covered_in_m2': 128,\n",
              "  'rooms': 4,\n",
              "  'price_per_m2': 905.54890625},\n",
              " {'price_approx_usd': 48718.17,\n",
              "  'surface_covered_in_m2': 210,\n",
              "  'rooms': 3,\n",
              "  'price_per_m2': 231.9912857142857},\n",
              " {'price_approx_usd': 28977.56,\n",
              "  'surface_covered_in_m2': 58,\n",
              "  'rooms': 2,\n",
              "  'price_per_m2': 499.61310344827587},\n",
              " {'price_approx_usd': 36932.27,\n",
              "  'surface_covered_in_m2': 79,\n",
              "  'rooms': 3,\n",
              "  'price_per_m2': 467.4970886075949},\n",
              " {'price_approx_usd': 83903.51,\n",
              "  'surface_covered_in_m2': 111,\n",
              "  'rooms': 3,\n",
              "  'price_per_m2': 755.8874774774774}]"
            ]
          },
          "metadata": {},
          "execution_count": 13
        }
      ]
    },
    {
      "cell_type": "markdown",
      "source": [
        "**Task 1.1.6: To calculate the mean price for houses_rowwise by completing the code below.**"
      ],
      "metadata": {
        "id": "IXG5ONaXix-2"
      }
    },
    {
      "cell_type": "code",
      "source": [
        "# Declare `house_prices` as empty list\n",
        "house_prices = []\n",
        "\n",
        "# Iterate through `houses_rowwise`\n",
        "\n",
        "for house in houses_rowwise:\n",
        "\n",
        "    # For each house, append \"price_approx_usd\" to `house_prices`\n",
        "    house_prices.append(house[\"price_approx_usd\"])\n",
        "mean_house_price = sum(house_prices) / len(house_prices)\n",
        "mean_house_price\n",
        "\n",
        "# Calculate `mean_house_price` using `house_prices`\n",
        "mean_house_price = sum(house_prices) / len(house_prices)\n",
        "\n",
        "# Print `mean_house_price` object type\n",
        "print(\"mean_house_price type:\", type(mean_house_price))\n",
        "\n",
        "# Get output of `mean_house_price`\n",
        "mean_house_price"
      ],
      "metadata": {
        "colab": {
          "base_uri": "https://localhost:8080/"
        },
        "id": "vEGE8F2Ti0Iy",
        "outputId": "888caa30-71d7-4e8e-84cd-6ec1125a80b2"
      },
      "execution_count": 14,
      "outputs": [
        {
          "output_type": "stream",
          "name": "stdout",
          "text": [
            "mean_house_price type: <class 'float'>\n"
          ]
        },
        {
          "output_type": "execute_result",
          "data": {
            "text/plain": [
              "62888.35399999999"
            ]
          },
          "metadata": {},
          "execution_count": 14
        }
      ]
    },
    {
      "cell_type": "markdown",
      "source": [
        "One way to make this sort of calculation easier is to organize our data by features instead of observations. We'll still use dictionaries and lists, but we'll implement them a slightly differently"
      ],
      "metadata": {
        "id": "oD7ed2hWjXEy"
      }
    },
    {
      "cell_type": "code",
      "source": [
        "# Declare variable `houses_columnwise`\n",
        "houses_columnwise = {\n",
        "    \"price_approx_usd\": [115910.26, 48718.17, 28977.56, 36932.27, 83903.51],\n",
        "    \"surface_covered_in_m2\": [128.0, 210.0, 58.0, 79.0, 111.0],\n",
        "    \"rooms\": [4.0, 3.0, 2.0, 3.0, 3.0],\n",
        "}\n",
        "\n",
        "# Print `houses_columnwise` object type\n",
        "print(\"houses_columnwise type:\", type(houses_columnwise))\n",
        "\n",
        "# Get output of `houses_columnwise`\n",
        "houses_columnwise"
      ],
      "metadata": {
        "colab": {
          "base_uri": "https://localhost:8080/"
        },
        "id": "uXfC4pfzjX9U",
        "outputId": "715422e2-c174-4d40-ad4d-5433a7a0b3ef"
      },
      "execution_count": 15,
      "outputs": [
        {
          "output_type": "stream",
          "name": "stdout",
          "text": [
            "houses_columnwise type: <class 'dict'>\n"
          ]
        },
        {
          "output_type": "execute_result",
          "data": {
            "text/plain": [
              "{'price_approx_usd': [115910.26, 48718.17, 28977.56, 36932.27, 83903.51],\n",
              " 'surface_covered_in_m2': [128.0, 210.0, 58.0, 79.0, 111.0],\n",
              " 'rooms': [4.0, 3.0, 2.0, 3.0, 3.0]}"
            ]
          },
          "metadata": {},
          "execution_count": 15
        }
      ]
    },
    {
      "cell_type": "markdown",
      "source": [
        "One way to make this sort of calculation easier is to organize our data by features instead of observations. We'll still use dictionaries and lists, but we'll implement them a slightly differently."
      ],
      "metadata": {
        "id": "e9brK9jOkITw"
      }
    },
    {
      "cell_type": "code",
      "source": [
        "# Declare variable `houses_columnwise`\n",
        "houses_columnwise = {\n",
        "    \"price_approx_usd\": [115910.26, 48718.17, 28977.56, 36932.27, 83903.51],\n",
        "    \"surface_covered_in_m2\": [128.0, 210.0, 58.0, 79.0, 111.0],\n",
        "    \"rooms\": [4.0, 3.0, 2.0, 3.0, 3.0],\n",
        "}\n",
        "\n",
        "# Print `houses_columnwise` object type\n",
        "print(\"houses_columnwise type:\", type(houses_columnwise))\n",
        "\n",
        "# Get output of `houses_columnwise`\n",
        "houses_columnwise"
      ],
      "metadata": {
        "colab": {
          "base_uri": "https://localhost:8080/"
        },
        "id": "2jU6F1zljdjm",
        "outputId": "b408bb47-3645-4996-f729-e6b3d182825f"
      },
      "execution_count": 16,
      "outputs": [
        {
          "output_type": "stream",
          "name": "stdout",
          "text": [
            "houses_columnwise type: <class 'dict'>\n"
          ]
        },
        {
          "output_type": "execute_result",
          "data": {
            "text/plain": [
              "{'price_approx_usd': [115910.26, 48718.17, 28977.56, 36932.27, 83903.51],\n",
              " 'surface_covered_in_m2': [128.0, 210.0, 58.0, 79.0, 111.0],\n",
              " 'rooms': [4.0, 3.0, 2.0, 3.0, 3.0]}"
            ]
          },
          "metadata": {},
          "execution_count": 16
        }
      ]
    },
    {
      "cell_type": "markdown",
      "source": [
        "**Task 1.1.7: Calculate the mean house price in houses_columnwise\n",
        "\n",
        "Perform common aggregation tasks on a list in Python.**"
      ],
      "metadata": {
        "id": "5RRRWEhAkPyR"
      }
    },
    {
      "cell_type": "code",
      "source": [
        "# Calculate `mean_house_price` using `houses_columnwise`\n",
        "\n",
        "mean_house_price = sum(houses_columnwise[\"price_approx_usd\"]) / len(houses_columnwise[\"price_approx_usd\"])\n",
        "\n",
        "\n",
        "\n",
        "# Print `mean_house_price` object type\n",
        "print(\"mean_house_price type:\", type(mean_house_price))\n",
        "\n",
        "# Get output of `mean_house_price`\n",
        "mean_house_price"
      ],
      "metadata": {
        "colab": {
          "base_uri": "https://localhost:8080/"
        },
        "id": "bShToVCgkKOj",
        "outputId": "31535f79-5796-4be6-ed4d-2ee0d27fe87c"
      },
      "execution_count": 17,
      "outputs": [
        {
          "output_type": "stream",
          "name": "stdout",
          "text": [
            "mean_house_price type: <class 'float'>\n"
          ]
        },
        {
          "output_type": "execute_result",
          "data": {
            "text/plain": [
              "62888.35399999999"
            ]
          },
          "metadata": {},
          "execution_count": 17
        }
      ]
    },
    {
      "cell_type": "markdown",
      "source": [
        "**Task 1.1.8: Create a \"price_per_m2\" column in houses_columnwise?**"
      ],
      "metadata": {
        "id": "c08lt3S9lCpP"
      }
    },
    {
      "cell_type": "code",
      "source": [
        "# Add \"price_per_m2\" key-value pair for `houses_columnwise`\n",
        "\n",
        "price = houses_columnwise[\"price_approx_usd\"]\n",
        "area = houses_columnwise[\"surface_covered_in_m2\"]\n",
        "price_per_m2 = []\n",
        "for p, a in zip(price, area):\n",
        "    price_m2 = p / a\n",
        "    price_per_m2.append(price_m2)\n",
        "houses_columnwise[\"price_per_m2\"] = price_per_m2\n",
        "\n",
        "\n",
        "# Print `houses_columnwise` object type\n",
        "print(\"houses_columnwise type:\", type(houses_columnwise))\n",
        "\n",
        "# Get output of `houses_columnwise`\n",
        "houses_columnwise"
      ],
      "metadata": {
        "colab": {
          "base_uri": "https://localhost:8080/"
        },
        "id": "Rf-863Xsk_YS",
        "outputId": "d65f9267-fda2-4279-fd05-68a8e134ec3f"
      },
      "execution_count": 18,
      "outputs": [
        {
          "output_type": "stream",
          "name": "stdout",
          "text": [
            "houses_columnwise type: <class 'dict'>\n"
          ]
        },
        {
          "output_type": "execute_result",
          "data": {
            "text/plain": [
              "{'price_approx_usd': [115910.26, 48718.17, 28977.56, 36932.27, 83903.51],\n",
              " 'surface_covered_in_m2': [128.0, 210.0, 58.0, 79.0, 111.0],\n",
              " 'rooms': [4.0, 3.0, 2.0, 3.0, 3.0],\n",
              " 'price_per_m2': [905.54890625,\n",
              "  231.9912857142857,\n",
              "  499.61310344827587,\n",
              "  467.4970886075949,\n",
              "  755.8874774774774]}"
            ]
          },
          "metadata": {},
          "execution_count": 18
        }
      ]
    },
    {
      "cell_type": "markdown",
      "source": [
        "While you've shown that you can wrangle data using lists and dictionaries, it's not as intuitive as working with, say, a spreadsheet. Fortunately, there are lots of libraries for Python that make it an even better tool for tabular data — way better than spreadsheet applications like Microsoft Excel or Google Sheets! One of the best known data science libraries is pandas, which allows you to organize data into DataFrames.\n"
      ],
      "metadata": {
        "id": "NpIiLZRDlGIN"
      }
    },
    {
      "cell_type": "code",
      "source": [
        "# Import pandas library, aliased as `pd`\n",
        "import pandas as pd\n",
        "\n",
        "# Declare variable `df_houses`\n",
        "df_houses = pd.DataFrame(houses_columnwise)\n",
        "\n",
        "# Print `df_houses` object type\n",
        "print(\"df_houses type:\", type(df_houses))\n",
        "\n",
        "# Print `df_houses` shape\n",
        "print(\"df_houses shape:\", df_houses.shape)\n",
        "\n",
        "# Get output of `df_houses`\n",
        "df_houses"
      ],
      "metadata": {
        "colab": {
          "base_uri": "https://localhost:8080/",
          "height": 241
        },
        "id": "bGWTU4HelK48",
        "outputId": "316f4ddc-d489-4c95-cd86-ca2d5bba6d54"
      },
      "execution_count": 19,
      "outputs": [
        {
          "output_type": "stream",
          "name": "stdout",
          "text": [
            "df_houses type: <class 'pandas.core.frame.DataFrame'>\n",
            "df_houses shape: (5, 4)\n"
          ]
        },
        {
          "output_type": "execute_result",
          "data": {
            "text/plain": [
              "   price_approx_usd  surface_covered_in_m2  rooms  price_per_m2\n",
              "0         115910.26                  128.0    4.0    905.548906\n",
              "1          48718.17                  210.0    3.0    231.991286\n",
              "2          28977.56                   58.0    2.0    499.613103\n",
              "3          36932.27                   79.0    3.0    467.497089\n",
              "4          83903.51                  111.0    3.0    755.887477"
            ],
            "text/html": [
              "\n",
              "  <div id=\"df-9dc6a3f7-a75c-4363-86f6-42e7deb7558d\" class=\"colab-df-container\">\n",
              "    <div>\n",
              "<style scoped>\n",
              "    .dataframe tbody tr th:only-of-type {\n",
              "        vertical-align: middle;\n",
              "    }\n",
              "\n",
              "    .dataframe tbody tr th {\n",
              "        vertical-align: top;\n",
              "    }\n",
              "\n",
              "    .dataframe thead th {\n",
              "        text-align: right;\n",
              "    }\n",
              "</style>\n",
              "<table border=\"1\" class=\"dataframe\">\n",
              "  <thead>\n",
              "    <tr style=\"text-align: right;\">\n",
              "      <th></th>\n",
              "      <th>price_approx_usd</th>\n",
              "      <th>surface_covered_in_m2</th>\n",
              "      <th>rooms</th>\n",
              "      <th>price_per_m2</th>\n",
              "    </tr>\n",
              "  </thead>\n",
              "  <tbody>\n",
              "    <tr>\n",
              "      <th>0</th>\n",
              "      <td>115910.26</td>\n",
              "      <td>128.0</td>\n",
              "      <td>4.0</td>\n",
              "      <td>905.548906</td>\n",
              "    </tr>\n",
              "    <tr>\n",
              "      <th>1</th>\n",
              "      <td>48718.17</td>\n",
              "      <td>210.0</td>\n",
              "      <td>3.0</td>\n",
              "      <td>231.991286</td>\n",
              "    </tr>\n",
              "    <tr>\n",
              "      <th>2</th>\n",
              "      <td>28977.56</td>\n",
              "      <td>58.0</td>\n",
              "      <td>2.0</td>\n",
              "      <td>499.613103</td>\n",
              "    </tr>\n",
              "    <tr>\n",
              "      <th>3</th>\n",
              "      <td>36932.27</td>\n",
              "      <td>79.0</td>\n",
              "      <td>3.0</td>\n",
              "      <td>467.497089</td>\n",
              "    </tr>\n",
              "    <tr>\n",
              "      <th>4</th>\n",
              "      <td>83903.51</td>\n",
              "      <td>111.0</td>\n",
              "      <td>3.0</td>\n",
              "      <td>755.887477</td>\n",
              "    </tr>\n",
              "  </tbody>\n",
              "</table>\n",
              "</div>\n",
              "    <div class=\"colab-df-buttons\">\n",
              "\n",
              "  <div class=\"colab-df-container\">\n",
              "    <button class=\"colab-df-convert\" onclick=\"convertToInteractive('df-9dc6a3f7-a75c-4363-86f6-42e7deb7558d')\"\n",
              "            title=\"Convert this dataframe to an interactive table.\"\n",
              "            style=\"display:none;\">\n",
              "\n",
              "  <svg xmlns=\"http://www.w3.org/2000/svg\" height=\"24px\" viewBox=\"0 -960 960 960\">\n",
              "    <path d=\"M120-120v-720h720v720H120Zm60-500h600v-160H180v160Zm220 220h160v-160H400v160Zm0 220h160v-160H400v160ZM180-400h160v-160H180v160Zm440 0h160v-160H620v160ZM180-180h160v-160H180v160Zm440 0h160v-160H620v160Z\"/>\n",
              "  </svg>\n",
              "    </button>\n",
              "\n",
              "  <style>\n",
              "    .colab-df-container {\n",
              "      display:flex;\n",
              "      gap: 12px;\n",
              "    }\n",
              "\n",
              "    .colab-df-convert {\n",
              "      background-color: #E8F0FE;\n",
              "      border: none;\n",
              "      border-radius: 50%;\n",
              "      cursor: pointer;\n",
              "      display: none;\n",
              "      fill: #1967D2;\n",
              "      height: 32px;\n",
              "      padding: 0 0 0 0;\n",
              "      width: 32px;\n",
              "    }\n",
              "\n",
              "    .colab-df-convert:hover {\n",
              "      background-color: #E2EBFA;\n",
              "      box-shadow: 0px 1px 2px rgba(60, 64, 67, 0.3), 0px 1px 3px 1px rgba(60, 64, 67, 0.15);\n",
              "      fill: #174EA6;\n",
              "    }\n",
              "\n",
              "    .colab-df-buttons div {\n",
              "      margin-bottom: 4px;\n",
              "    }\n",
              "\n",
              "    [theme=dark] .colab-df-convert {\n",
              "      background-color: #3B4455;\n",
              "      fill: #D2E3FC;\n",
              "    }\n",
              "\n",
              "    [theme=dark] .colab-df-convert:hover {\n",
              "      background-color: #434B5C;\n",
              "      box-shadow: 0px 1px 3px 1px rgba(0, 0, 0, 0.15);\n",
              "      filter: drop-shadow(0px 1px 2px rgba(0, 0, 0, 0.3));\n",
              "      fill: #FFFFFF;\n",
              "    }\n",
              "  </style>\n",
              "\n",
              "    <script>\n",
              "      const buttonEl =\n",
              "        document.querySelector('#df-9dc6a3f7-a75c-4363-86f6-42e7deb7558d button.colab-df-convert');\n",
              "      buttonEl.style.display =\n",
              "        google.colab.kernel.accessAllowed ? 'block' : 'none';\n",
              "\n",
              "      async function convertToInteractive(key) {\n",
              "        const element = document.querySelector('#df-9dc6a3f7-a75c-4363-86f6-42e7deb7558d');\n",
              "        const dataTable =\n",
              "          await google.colab.kernel.invokeFunction('convertToInteractive',\n",
              "                                                    [key], {});\n",
              "        if (!dataTable) return;\n",
              "\n",
              "        const docLinkHtml = 'Like what you see? Visit the ' +\n",
              "          '<a target=\"_blank\" href=https://colab.research.google.com/notebooks/data_table.ipynb>data table notebook</a>'\n",
              "          + ' to learn more about interactive tables.';\n",
              "        element.innerHTML = '';\n",
              "        dataTable['output_type'] = 'display_data';\n",
              "        await google.colab.output.renderOutput(dataTable, element);\n",
              "        const docLink = document.createElement('div');\n",
              "        docLink.innerHTML = docLinkHtml;\n",
              "        element.appendChild(docLink);\n",
              "      }\n",
              "    </script>\n",
              "  </div>\n",
              "\n",
              "\n",
              "    <div id=\"df-bde2fb9a-bd15-4674-a2f6-c2a15e19333f\">\n",
              "      <button class=\"colab-df-quickchart\" onclick=\"quickchart('df-bde2fb9a-bd15-4674-a2f6-c2a15e19333f')\"\n",
              "                title=\"Suggest charts\"\n",
              "                style=\"display:none;\">\n",
              "\n",
              "<svg xmlns=\"http://www.w3.org/2000/svg\" height=\"24px\"viewBox=\"0 0 24 24\"\n",
              "     width=\"24px\">\n",
              "    <g>\n",
              "        <path d=\"M19 3H5c-1.1 0-2 .9-2 2v14c0 1.1.9 2 2 2h14c1.1 0 2-.9 2-2V5c0-1.1-.9-2-2-2zM9 17H7v-7h2v7zm4 0h-2V7h2v10zm4 0h-2v-4h2v4z\"/>\n",
              "    </g>\n",
              "</svg>\n",
              "      </button>\n",
              "\n",
              "<style>\n",
              "  .colab-df-quickchart {\n",
              "      --bg-color: #E8F0FE;\n",
              "      --fill-color: #1967D2;\n",
              "      --hover-bg-color: #E2EBFA;\n",
              "      --hover-fill-color: #174EA6;\n",
              "      --disabled-fill-color: #AAA;\n",
              "      --disabled-bg-color: #DDD;\n",
              "  }\n",
              "\n",
              "  [theme=dark] .colab-df-quickchart {\n",
              "      --bg-color: #3B4455;\n",
              "      --fill-color: #D2E3FC;\n",
              "      --hover-bg-color: #434B5C;\n",
              "      --hover-fill-color: #FFFFFF;\n",
              "      --disabled-bg-color: #3B4455;\n",
              "      --disabled-fill-color: #666;\n",
              "  }\n",
              "\n",
              "  .colab-df-quickchart {\n",
              "    background-color: var(--bg-color);\n",
              "    border: none;\n",
              "    border-radius: 50%;\n",
              "    cursor: pointer;\n",
              "    display: none;\n",
              "    fill: var(--fill-color);\n",
              "    height: 32px;\n",
              "    padding: 0;\n",
              "    width: 32px;\n",
              "  }\n",
              "\n",
              "  .colab-df-quickchart:hover {\n",
              "    background-color: var(--hover-bg-color);\n",
              "    box-shadow: 0 1px 2px rgba(60, 64, 67, 0.3), 0 1px 3px 1px rgba(60, 64, 67, 0.15);\n",
              "    fill: var(--button-hover-fill-color);\n",
              "  }\n",
              "\n",
              "  .colab-df-quickchart-complete:disabled,\n",
              "  .colab-df-quickchart-complete:disabled:hover {\n",
              "    background-color: var(--disabled-bg-color);\n",
              "    fill: var(--disabled-fill-color);\n",
              "    box-shadow: none;\n",
              "  }\n",
              "\n",
              "  .colab-df-spinner {\n",
              "    border: 2px solid var(--fill-color);\n",
              "    border-color: transparent;\n",
              "    border-bottom-color: var(--fill-color);\n",
              "    animation:\n",
              "      spin 1s steps(1) infinite;\n",
              "  }\n",
              "\n",
              "  @keyframes spin {\n",
              "    0% {\n",
              "      border-color: transparent;\n",
              "      border-bottom-color: var(--fill-color);\n",
              "      border-left-color: var(--fill-color);\n",
              "    }\n",
              "    20% {\n",
              "      border-color: transparent;\n",
              "      border-left-color: var(--fill-color);\n",
              "      border-top-color: var(--fill-color);\n",
              "    }\n",
              "    30% {\n",
              "      border-color: transparent;\n",
              "      border-left-color: var(--fill-color);\n",
              "      border-top-color: var(--fill-color);\n",
              "      border-right-color: var(--fill-color);\n",
              "    }\n",
              "    40% {\n",
              "      border-color: transparent;\n",
              "      border-right-color: var(--fill-color);\n",
              "      border-top-color: var(--fill-color);\n",
              "    }\n",
              "    60% {\n",
              "      border-color: transparent;\n",
              "      border-right-color: var(--fill-color);\n",
              "    }\n",
              "    80% {\n",
              "      border-color: transparent;\n",
              "      border-right-color: var(--fill-color);\n",
              "      border-bottom-color: var(--fill-color);\n",
              "    }\n",
              "    90% {\n",
              "      border-color: transparent;\n",
              "      border-bottom-color: var(--fill-color);\n",
              "    }\n",
              "  }\n",
              "</style>\n",
              "\n",
              "      <script>\n",
              "        async function quickchart(key) {\n",
              "          const quickchartButtonEl =\n",
              "            document.querySelector('#' + key + ' button');\n",
              "          quickchartButtonEl.disabled = true;  // To prevent multiple clicks.\n",
              "          quickchartButtonEl.classList.add('colab-df-spinner');\n",
              "          try {\n",
              "            const charts = await google.colab.kernel.invokeFunction(\n",
              "                'suggestCharts', [key], {});\n",
              "          } catch (error) {\n",
              "            console.error('Error during call to suggestCharts:', error);\n",
              "          }\n",
              "          quickchartButtonEl.classList.remove('colab-df-spinner');\n",
              "          quickchartButtonEl.classList.add('colab-df-quickchart-complete');\n",
              "        }\n",
              "        (() => {\n",
              "          let quickchartButtonEl =\n",
              "            document.querySelector('#df-bde2fb9a-bd15-4674-a2f6-c2a15e19333f button');\n",
              "          quickchartButtonEl.style.display =\n",
              "            google.colab.kernel.accessAllowed ? 'block' : 'none';\n",
              "        })();\n",
              "      </script>\n",
              "    </div>\n",
              "\n",
              "  <div id=\"id_775cda58-36f5-475d-966a-f45d428f45da\">\n",
              "    <style>\n",
              "      .colab-df-generate {\n",
              "        background-color: #E8F0FE;\n",
              "        border: none;\n",
              "        border-radius: 50%;\n",
              "        cursor: pointer;\n",
              "        display: none;\n",
              "        fill: #1967D2;\n",
              "        height: 32px;\n",
              "        padding: 0 0 0 0;\n",
              "        width: 32px;\n",
              "      }\n",
              "\n",
              "      .colab-df-generate:hover {\n",
              "        background-color: #E2EBFA;\n",
              "        box-shadow: 0px 1px 2px rgba(60, 64, 67, 0.3), 0px 1px 3px 1px rgba(60, 64, 67, 0.15);\n",
              "        fill: #174EA6;\n",
              "      }\n",
              "\n",
              "      [theme=dark] .colab-df-generate {\n",
              "        background-color: #3B4455;\n",
              "        fill: #D2E3FC;\n",
              "      }\n",
              "\n",
              "      [theme=dark] .colab-df-generate:hover {\n",
              "        background-color: #434B5C;\n",
              "        box-shadow: 0px 1px 3px 1px rgba(0, 0, 0, 0.15);\n",
              "        filter: drop-shadow(0px 1px 2px rgba(0, 0, 0, 0.3));\n",
              "        fill: #FFFFFF;\n",
              "      }\n",
              "    </style>\n",
              "    <button class=\"colab-df-generate\" onclick=\"generateWithVariable('df_houses')\"\n",
              "            title=\"Generate code using this dataframe.\"\n",
              "            style=\"display:none;\">\n",
              "\n",
              "  <svg xmlns=\"http://www.w3.org/2000/svg\" height=\"24px\"viewBox=\"0 0 24 24\"\n",
              "       width=\"24px\">\n",
              "    <path d=\"M7,19H8.4L18.45,9,17,7.55,7,17.6ZM5,21V16.75L18.45,3.32a2,2,0,0,1,2.83,0l1.4,1.43a1.91,1.91,0,0,1,.58,1.4,1.91,1.91,0,0,1-.58,1.4L9.25,21ZM18.45,9,17,7.55Zm-12,3A5.31,5.31,0,0,0,4.9,8.1,5.31,5.31,0,0,0,1,6.5,5.31,5.31,0,0,0,4.9,4.9,5.31,5.31,0,0,0,6.5,1,5.31,5.31,0,0,0,8.1,4.9,5.31,5.31,0,0,0,12,6.5,5.46,5.46,0,0,0,6.5,12Z\"/>\n",
              "  </svg>\n",
              "    </button>\n",
              "    <script>\n",
              "      (() => {\n",
              "      const buttonEl =\n",
              "        document.querySelector('#id_775cda58-36f5-475d-966a-f45d428f45da button.colab-df-generate');\n",
              "      buttonEl.style.display =\n",
              "        google.colab.kernel.accessAllowed ? 'block' : 'none';\n",
              "\n",
              "      buttonEl.onclick = () => {\n",
              "        google.colab.notebook.generateWithVariable('df_houses');\n",
              "      }\n",
              "      })();\n",
              "    </script>\n",
              "  </div>\n",
              "\n",
              "    </div>\n",
              "  </div>\n"
            ],
            "application/vnd.google.colaboratory.intrinsic+json": {
              "type": "dataframe",
              "variable_name": "df_houses",
              "summary": "{\n  \"name\": \"df_houses\",\n  \"rows\": 5,\n  \"fields\": [\n    {\n      \"column\": \"price_approx_usd\",\n      \"properties\": {\n        \"dtype\": \"number\",\n        \"std\": 36322.90482084452,\n        \"min\": 28977.56,\n        \"max\": 115910.26,\n        \"num_unique_values\": 5,\n        \"samples\": [\n          48718.17,\n          83903.51,\n          28977.56\n        ],\n        \"semantic_type\": \"\",\n        \"description\": \"\"\n      }\n    },\n    {\n      \"column\": \"surface_covered_in_m2\",\n      \"properties\": {\n        \"dtype\": \"number\",\n        \"std\": 58.589248160392025,\n        \"min\": 58.0,\n        \"max\": 210.0,\n        \"num_unique_values\": 5,\n        \"samples\": [\n          210.0,\n          111.0,\n          58.0\n        ],\n        \"semantic_type\": \"\",\n        \"description\": \"\"\n      }\n    },\n    {\n      \"column\": \"rooms\",\n      \"properties\": {\n        \"dtype\": \"number\",\n        \"std\": 0.7071067811865476,\n        \"min\": 2.0,\n        \"max\": 4.0,\n        \"num_unique_values\": 3,\n        \"samples\": [\n          4.0,\n          3.0,\n          2.0\n        ],\n        \"semantic_type\": \"\",\n        \"description\": \"\"\n      }\n    },\n    {\n      \"column\": \"price_per_m2\",\n      \"properties\": {\n        \"dtype\": \"number\",\n        \"std\": 263.07606620838123,\n        \"min\": 231.9912857142857,\n        \"max\": 905.54890625,\n        \"num_unique_values\": 5,\n        \"samples\": [\n          231.9912857142857,\n          755.8874774774774,\n          499.61310344827587\n        ],\n        \"semantic_type\": \"\",\n        \"description\": \"\"\n      }\n    }\n  ]\n}"
            }
          },
          "metadata": {},
          "execution_count": 19
        }
      ]
    },
    {
      "cell_type": "markdown",
      "source": [
        "Excellent work! You've mastered the concept of tabular data, understand the principles behind tidy data, and used lists and dictionaries to organize and augment our Mexico housing dataset. Next, we'll use these skills on the entire dataset — with over 150,000 observations — to better understand the real estate market in the country."
      ],
      "metadata": {
        "id": "WIID2RLXlbAi"
      }
    },
    {
      "cell_type": "markdown",
      "source": [
        "#lesson 2\n"
      ],
      "metadata": {
        "id": "83pMPIoHltrl"
      }
    },
    {
      "cell_type": "markdown",
      "source": [
        "**1. Preparing Mexico Data**"
      ],
      "metadata": {
        "id": "9qDF3ed1l1Ox"
      }
    },
    {
      "cell_type": "markdown",
      "source": [
        "The first part of any data science project is preparing your data, which means making sure its in the right place and format for you to conduct your analysis. The first step of any data preparation is importing your raw data and cleaning it.\n",
        "\n",
        "If you look in the small-data directory on your machine, you'll see that the data for this project comes in three CSV files: mexico-real-estate-1.csv, mexico-real-estate-2.csv, and mexico-real-estate-3.csv."
      ],
      "metadata": {
        "id": "pPxGNOromDtD"
      }
    },
    {
      "cell_type": "markdown",
      "source": [
        "##Task 1.2.1: Read these three files into three separate DataFrames named df1, df2, and df3, respectively.\n",
        "\n",
        "What's a DataFrame?\n",
        "\n",
        "What's a CSV file?\n",
        "\n",
        "Read a CSV file into a DataFrame using pandas.\n",
        "\n"
      ],
      "metadata": {
        "id": "j64G-W4wmLG2"
      }
    },
    {
      "cell_type": "code",
      "source": [
        "# Load CSV files into DataFrames\n",
        "df1 = pd.read_csv(\"data/mexico-real-estate-1.csv\")\n",
        "df2 = pd.read_csv(\"data/mexico-real-estate-2.csv\")\n",
        "df3 = pd.read_csv(\"data/mexico-real-estate-3.csv\")\n",
        "\n",
        "# Print object type and shape for DataFrames\n",
        "print(\"df1 type:\", type(df1))\n",
        "print(\"df1 shape:\", df1.shape)\n",
        "print()\n",
        "print(\"df2 type:\", type(df2))\n",
        "print(\"df2 shape:\", df2.shape)\n",
        "print()\n",
        "print(\"df3 type:\", type(df3))\n",
        "print(\"df3 shape:\", df3.shape)"
      ],
      "metadata": {
        "id": "AaL1m3-YnzuD"
      },
      "execution_count": null,
      "outputs": []
    },
    {
      "cell_type": "markdown",
      "source": [
        "Clean df1\n",
        "\n",
        "Now that you have your three DataFrames, it's time to inspect them to see if they need any cleaning. Let's look at them one-by-one."
      ],
      "metadata": {
        "id": "uC-gYLAMnv6i"
      }
    },
    {
      "cell_type": "markdown",
      "source": [
        "#Task 1.2.2: Inspect df1 by looking at its shape attribute. Then use the info method to see the data types and number of missing values for each column. Finally, use the head method to determine to look at the first five rows of your dataset.\n",
        "\n",
        "#Inspect a DataFrame using the shape, info, and head in pandas."
      ],
      "metadata": {
        "id": "htdjBE7Jn3P6"
      }
    },
    {
      "cell_type": "code",
      "source": [
        "# Print df1 shape\n",
        "df1.shape\n",
        "# Print df1 info\n",
        "df1.info\n",
        "# Get output of df1 head\n",
        "df1.head()"
      ],
      "metadata": {
        "id": "_FUqSQdznxmg"
      },
      "execution_count": null,
      "outputs": []
    },
    {
      "cell_type": "markdown",
      "source": [
        "It looks like there are a couple of problems in this DataFrame that you need to solve. First, there are many rows with NaN values in the \"lat\" and \"lon\" columns. Second, the data type for the \"price_usd\" column is object when it should be float."
      ],
      "metadata": {
        "id": "wFsX8OiwoMmb"
      }
    },
    {
      "cell_type": "markdown",
      "source": [
        "#Task 1.2.3: Clean df1 by dropping rows with NaN values. Then remove the \"$\" and \",\" characters from \"price_usd\" and recast the values in the column as floats.\n",
        "\n",
        "What's a data type?\n",
        "\n",
        "Drop rows with missing values from a DataFrame using pandas.\n",
        "\n",
        "Replace string characters in a column using pandas.\n",
        "\n"
      ],
      "metadata": {
        "id": "H_Q1-9OJoTkI"
      }
    },
    {
      "cell_type": "code",
      "source": [
        "# Drop null values from df1\n",
        "# remove nan values\n",
        "df1.dropna(inplace=True)\n",
        "# Clean \"price_usd\" column in df1\n",
        "\n",
        "\n",
        "# Transform price from object to float\n",
        "df1[\"price_usd\"] = (df1[\"price_usd\"]\n",
        "                    .str.replace(\"$\", \"\", regex=False)\n",
        "                    .str.replace(\",\", \"\", regex=False)\n",
        "                    .astype(float)\n",
        "                   )\n",
        "\n",
        "# Print object type, shape, and head\n",
        "print(\"df1 type:\", type(df1))\n",
        "print(\"df1 shape:\", df1.shape)\n",
        "df1.head()"
      ],
      "metadata": {
        "id": "m5es4r2NoMT8"
      },
      "execution_count": null,
      "outputs": []
    },
    {
      "cell_type": "markdown",
      "source": [
        "Now it's time to tackle df2. Take a moment to inspect it using the same commands you used before. You'll notice that it has the same issue of NaN values, but there's a new problem, too: The home prices are in Mexican pesos (\"price_mxn\"), not US dollars (\"price_usd\"). If we want to compare all the home prices in this dataset, they all need to be in the same currency."
      ],
      "metadata": {
        "id": "aqiIBXr6pId9"
      }
    },
    {
      "cell_type": "markdown",
      "source": [
        "#Task 1.2.4: First, drop rows with NaN values in df2. Next, use the \"price_mxn\" column to create a new column named \"price_usd\". (Keep in mind that, when this data was collected in 2014, a dollar cost 19 pesos.) Finally, drop the \"price_mxn\" from the DataFrame.\n"
      ],
      "metadata": {
        "id": "7oa2A5yrpO53"
      }
    },
    {
      "cell_type": "code",
      "source": [
        "# Drop null values from df2\n",
        "# Remove 'NaN' values\n",
        "df2.dropna(inplace=True)\n",
        "# Create \"price_usd\" column for df2 (19 pesos to the dollar in 2014)\n",
        "\n",
        "\n",
        "# Create a \"price_usd\" col\n",
        "df2[\"price_usd\"] = (df2[\"price_mxn\"] / 19).round(2)\n",
        "\n",
        "# Drop \"price_mxn\" col\n",
        "df2.drop(columns=[\"price_mxn\"], inplace=True)\n",
        "\n",
        "\n",
        "\n",
        "# Drop \"price_mxn\" column from df2\n",
        "\n",
        "# Print object type, shape, and head\n",
        "print(\"df2 type:\", type(df2))\n",
        "print(\"df2 shape:\", df2.shape)\n",
        "df2.head()"
      ],
      "metadata": {
        "id": "wP48G-i0pM5T"
      },
      "execution_count": null,
      "outputs": []
    },
    {
      "cell_type": "markdown",
      "source": [],
      "metadata": {
        "id": "SCOrCJxSqB0e"
      }
    },
    {
      "cell_type": "markdown",
      "source": [
        "Great work! We're now on the final DataFrame. Use the same shape, info and head commands to inspect the df3. Do you see any familiar issues?\n",
        "\n",
        "You'll notice that we still have NaN values, but there are two new problems:\n",
        "\n",
        "Instead of separate \"lat\" and \"lon\" columns, there's a single \"lat-lon\" column.\n",
        "Instead of a \"state\" column, there's a \"place_with_parent_names\" column.\n",
        "We need the resolve these problems so that df3 has the same columns in the same format as df1 and df2."
      ],
      "metadata": {
        "id": "m4hgiqzUqGjm"
      }
    },
    {
      "cell_type": "markdown",
      "source": [
        "#Task 1.2.5: Drop rows with NaN values in df3. Then use the split method to create two new columns from \"lat-lon\" named \"lat\" and \"lon\", respectively."
      ],
      "metadata": {
        "id": "PYTtW16bqK5h"
      }
    },
    {
      "cell_type": "code",
      "source": [
        "# Drop 'NaN' rows\n",
        "df3.dropna(inplace=True)\n",
        "# Create \"lat\" and \"lon\" columns for df3\n",
        "# Split \"lat-lon\"\n",
        "df3[[\"lat\", \"lon\"]] = df3[\"lat-lon\"].str.split(\",\", expand=True)\n",
        "\n",
        "\n",
        "\n",
        "# Print object type, shape, and head\n",
        "print(\"df3 type:\", type(df3))\n",
        "print(\"df3 shape:\", df3.shape)\n",
        "df3.head()"
      ],
      "metadata": {
        "id": "_Pwe8OFrq3Lg"
      },
      "execution_count": null,
      "outputs": []
    },
    {
      "cell_type": "markdown",
      "source": [
        "#df3 extracting state\n",
        "\n",
        "#Task 1.2.6: Use the split method again, this time to extract the state for every house. (Note that the state name always appears after \"México|\" in each string.) Use this information to create a \"state\" column. Finally, drop the \"place_with_parent_names\" and \"lat-lon\" columns from the DataFrame."
      ],
      "metadata": {
        "id": "TbQROaSBqK2A"
      }
    },
    {
      "cell_type": "code",
      "source": [
        "# Create \"state\" col from \"place_with_parent_names\"\n",
        "df3[\"state\"] = df3[\"place_with_parent_names\"].str.split(\"|\", expand=True)[1]\n",
        "\n",
        "# Drop \"place_with_parent_names\" and \"lat-lon\" from df3\n",
        "df3.drop(columns=[\"place_with_parent_names\", \"lat-lon\"], inplace=True)\n",
        "# Print object type, shape, and head\n",
        "print(\"df3 type:\", type(df3))\n",
        "print(\"df3 shape:\", df3.shape)\n",
        "df3.head()"
      ],
      "metadata": {
        "id": "zTgKW15sq4gV"
      },
      "execution_count": null,
      "outputs": []
    },
    {
      "cell_type": "markdown",
      "source": [
        "#concentrate dataframe\n",
        "#Task 1.2.7: Use pd.concat to concatenate df1, df2, df3 as new DataFrame named df. Your new DataFrame should have 1,736 rows and 6 columns:\"property_type\", \"state\", \"lat\", \"lon\", \"area_m2\", and \"price_usd\"."
      ],
      "metadata": {
        "id": "LUX1bfAZqKzR"
      }
    },
    {
      "cell_type": "code",
      "source": [
        "# Concatenate df1, df2, and df3\n",
        "df = pd.concat([df1,df2,df3])\n",
        "\n",
        "# Print object type, shape, and head\n",
        "print(\"df type:\", type(df))\n",
        "print(\"df shape:\", df.shape)\n",
        "df.head()"
      ],
      "metadata": {
        "id": "iXFuhzHZtPz0"
      },
      "execution_count": null,
      "outputs": []
    },
    {
      "cell_type": "markdown",
      "source": [
        "#Task 1.2.8: Save df as a CSV file using the to_csv method. The file path should be \"./data/mexico-real-estate-clean.csv\". Be sure to set the index argument to False.\n",
        "\n",
        "What's a CSV file?"
      ],
      "metadata": {
        "id": "Yyq5scyJqKwh"
      }
    },
    {
      "cell_type": "code",
      "source": [
        "# Save df\n",
        "df.to_csv(\"data/brasil-real-estate-clean.csv\")"
      ],
      "metadata": {
        "id": "wgDVq1PstgkD"
      },
      "execution_count": null,
      "outputs": []
    },
    {
      "cell_type": "markdown",
      "source": [
        "##*************Lesson 3****************##"
      ],
      "metadata": {
        "id": "TbVa5kH1qKtn"
      }
    },
    {
      "cell_type": "markdown",
      "source": [
        "##1.3. Exploratory Data Analysis"
      ],
      "metadata": {
        "id": "9Te-l_tAqKrQ"
      }
    },
    {
      "cell_type": "code",
      "source": [
        "import matplotlib.pyplot as plt\n",
        "import pandas as pd\n",
        "import plotly.express as px\n",
        "from IPython.display import VimeoVideo"
      ],
      "metadata": {
        "id": "sNI91sMqy4og"
      },
      "execution_count": null,
      "outputs": []
    },
    {
      "cell_type": "markdown",
      "source": [
        "\n",
        "After importing, the next step in many data science projects is exploratory\n",
        "data analysis (EDA), where you get a feel for your data by summarizing its main characteristics using descriptive statistics and data visualization. A good way to plan your EDA is by looking each column and asking yourself questions what it says about your dataset."
      ],
      "metadata": {
        "id": "DIsLwITiqKoU"
      }
    },
    {
      "cell_type": "markdown",
      "source": [
        "#Task 1.3.1: Read the CSV file that you created in the last notebook (\"../small-data/mexico-real-estate-clean.csv\") into a DataFrame named df. Be sure to check that all your columns are the correct data type before you go to the next task."
      ],
      "metadata": {
        "id": "xe1C35vyqKlq"
      }
    },
    {
      "cell_type": "code",
      "source": [
        "# Import \"data/mexico-real-estate-clean.csv\"\n",
        "df = pd.read_csv(\"data/brasil-real-estate-clean.csv\")\n",
        "\n",
        "# Print object type, shape, and head\n",
        "print(\"df type:\", type(df))\n",
        "print(\"df shape:\", df.shape)\n",
        "df.head()"
      ],
      "metadata": {
        "id": "GnXQ3HFz0nbg"
      },
      "execution_count": null,
      "outputs": []
    },
    {
      "cell_type": "markdown",
      "source": [
        "They say that the most important thing in real estate is location, and we can see where where in Mexico our houses are located by using the \"lat\" and \"lon\" columns. Since latitude and longitude are based on a coordinate system, a good way to visualize them is to create a scatter plot on top of a map. A great tool for this is the scatter_mapbox from the plotly library."
      ],
      "metadata": {
        "id": "BShRTq-oqKjB"
      }
    },
    {
      "cell_type": "markdown",
      "source": [
        "#Task 1.3.2: Add \"lat\" and \"lon\" to the code below, and run the code. You'll see a map that's centered on Mexico City, and you can use the \"Zoom Out\" button in the upper-right corner of the map so that you can see the whole country."
      ],
      "metadata": {
        "id": "AYnB7lz4qKgY"
      }
    },
    {
      "cell_type": "code",
      "source": [
        "# Use plotly express to create figure\n",
        "fig = px.scatter_mapbox(\n",
        "    df,  # Our DataFrame\n",
        "    lat=\"lat\",\n",
        "    lon=\"lon\",\n",
        "    center={\"lat\": 19.43, \"lon\": -99.13},  # Map will be centered on Mexico City\n",
        "    width=600,  # Width of map\n",
        "    height=600,  # Height of map\n",
        "    hover_data=[\"price_usd\"],  # Display price when hovering mouse over house\n",
        ")\n",
        "\n",
        "# Add mapbox_style to figure layout\n",
        "fig.update_layout(mapbox_style=\"open-street-map\")\n",
        "\n",
        "# Show figure\n",
        "fig.show()"
      ],
      "metadata": {
        "id": "4WHRY6KY08PX"
      },
      "execution_count": null,
      "outputs": []
    },
    {
      "cell_type": "markdown",
      "source": [
        "## Categorical Data: \"state\"\n",
        "Even though we can get a good idea of which states are most common in our dataset from looking at a map, we can also get the exact count by using the \"state\" column."
      ],
      "metadata": {
        "id": "Vs1JP7Fu1Bk_"
      }
    },
    {
      "cell_type": "markdown",
      "source": [
        "# most common state\n"
      ],
      "metadata": {
        "id": "eMADtRal1Z0I"
      }
    },
    {
      "cell_type": "markdown",
      "source": [
        "#Task 1.3.3: Use the value_counts method on the \"state\" column to determine the 10 most prevalent states in our dataset."
      ],
      "metadata": {
        "id": "VSNFeEEwqKdv"
      }
    },
    {
      "cell_type": "code",
      "source": [
        "df[\"state\"].value_counts().head()"
      ],
      "metadata": {
        "id": "RTpH7o4-09nS"
      },
      "execution_count": null,
      "outputs": []
    },
    {
      "cell_type": "markdown",
      "source": [
        "#Task 1.3.4: Use the describe method to print the mean, standard deviation, and quartiles for the \"area_m2\" and \"price_usd\" columns."
      ],
      "metadata": {
        "id": "mnloqZRUqKbQ"
      }
    },
    {
      "cell_type": "code",
      "source": [
        "# Describe \"area_m2\", \"price_usd\" columns\n",
        "df[[\"area_m2\",\"price_usd\"]].describe()"
      ],
      "metadata": {
        "id": "x6UxTUIz1xrf"
      },
      "execution_count": null,
      "outputs": []
    },
    {
      "cell_type": "markdown",
      "source": [
        "Let's start by looking at \"area_m2\". It's interesting that the mean is larger than the median (another name for the 50% quartile). Both of these statistics are supposed to give an idea of the \"typical\" value for the column, so why is there a difference of almost 15 m2 between them? To answer this question, we need to see how house sizes are distributed in our dataset. Let's look at two ways to visualize the distribution: a histogram and a boxplot."
      ],
      "metadata": {
        "id": "0ewti8cx13OY"
      }
    },
    {
      "cell_type": "markdown",
      "source": [
        "#Task 1.3.5: Create a histogram of \"area_m2\". Make sure that the x-axis has the label \"Area [sq meters]\", the y-axis has the label \"Frequency\", and the plot has the title \"Distribution of Home Sizes\"."
      ],
      "metadata": {
        "id": "JMP9pw6IqKYN"
      }
    },
    {
      "cell_type": "code",
      "source": [
        "plt.hist(df[\"area_m2\"])\n",
        "plt.xlabel(\"Area [sq meters]\")\n",
        "plt.ylabel(\"Frequency\")\n",
        "plt.title(\"Distribution of Home Sizes\");"
      ],
      "metadata": {
        "id": "cFfYEuVA1zXw"
      },
      "execution_count": null,
      "outputs": []
    },
    {
      "cell_type": "markdown",
      "source": [
        "#Task 1.3.6: Create a horizontal boxplot of \"area_m2\". Make sure that the x-axis has the label \"Area [sq meters]\" and the plot has the title \"Distribution of Home Sizes\". How is the distribution and its left skew represented differently here than in your histogram"
      ],
      "metadata": {
        "id": "Uu-wqyXTqKU5"
      }
    },
    {
      "cell_type": "code",
      "source": [
        "# Use Matplotlib to create boxplot of \"area_m2\"\n",
        "plt.boxplot(df[\"area_m2\"], vert=False)\n",
        "# Add x-axis label\n",
        "plt.xlabel(\"Area [sq meters]\")\n",
        "# Add title\n",
        "plt.title(\"Distribution of Home Sizes\");"
      ],
      "metadata": {
        "id": "oc-PRSr41zu4"
      },
      "execution_count": null,
      "outputs": []
    },
    {
      "cell_type": "markdown",
      "source": [
        "\n",
        "#Task 1.3.7: Create a histogram of \"price_usd\". Make sure that the x-axis has the label \"Price [USD]\", the y-axis has the label \"Frequency\", and the plot has the title \"Distribution of Home Prices\"."
      ],
      "metadata": {
        "id": "f7nqkFFJqKRe"
      }
    },
    {
      "cell_type": "code",
      "source": [
        "# Use Matplotlib to create histogram of \"price_usd\"\n",
        "plt.hist(df[\"price_usd\"])\n",
        "# Add x-axis label\n",
        "plt.xlabel(\"Price [USD]\")\n",
        "# Add y-axis label\n",
        "plt.ylabel(\"Frequency\")\n",
        "# Add title\n",
        "plt.title(\"Distribution of Home Prices\");\n"
      ],
      "metadata": {
        "id": "LZ5HU96j10OQ"
      },
      "execution_count": null,
      "outputs": []
    },
    {
      "cell_type": "markdown",
      "source": [
        "# Task 1.3.8: Create a horizontal boxplot of \"price_usd\". Make sure that the x-axis has the label \"Price [USD]\" and the plot has the title \"Distribution of Home Prices\"."
      ],
      "metadata": {
        "id": "ow2dvnwy0K2A"
      }
    },
    {
      "cell_type": "code",
      "source": [
        "# Use Matplotlib to create boxplot of \"price_usd\"\n",
        "\n",
        "\n",
        "plt.boxplot(df[\"price_usd\"], vert=False)\n",
        "# Add x-axis label\n",
        "plt.xlabel(\"Area [sq meters]\")\n",
        "# Add title\n",
        "plt.title(\"Distribution of Home Sizes\");\n"
      ],
      "metadata": {
        "id": "wXHUz4QG10lX"
      },
      "execution_count": null,
      "outputs": []
    },
    {
      "cell_type": "markdown",
      "source": [
        "#**lesson 1.4. Location or Size: What Influences House Prices in Mexico?**"
      ],
      "metadata": {
        "id": "ptQtQrNr3ZDg"
      }
    },
    {
      "cell_type": "markdown",
      "source": [
        "Task 1.4.1: Read the CSV file that you created in the last notebook (\"data/mexico-real-estate-clean.csv\") into a DataFrame named df. Be sure to check that all your columns are the correct data type before you go to the next task."
      ],
      "metadata": {
        "id": "JMWIJsNJ3l9Y"
      }
    },
    {
      "cell_type": "code",
      "source": [
        "# Import \"data/mexico-real-estate-clean.csv\"\n",
        "df = pd.read_csv(\"data/brasil-real-estate-clean.csv\")\n",
        "\n",
        "# Print object type, shape, and head\n",
        "print(\"df type:\", type(df))\n",
        "print(\"df shape:\", df.shape)\n",
        "df.head()"
      ],
      "metadata": {
        "id": "PSMx0hnE3lJI"
      },
      "execution_count": null,
      "outputs": []
    },
    {
      "cell_type": "markdown",
      "source": [
        "Do housing prices vary by state? If so, which are the most expensive states for purchasing a home? During our exploratory data analysis, we used descriptive statistics like mean and median to get an idea of the \"typical\" house price in Mexico. Now, we need to break that calculation down by state and visualize the results.\n",
        "\n",
        "We know in which state each house is located thanks to the \"state\" column. The next step is to divide our dataset into groups (one per state) and calculate the mean house price for each group."
      ],
      "metadata": {
        "id": "wrqVBBxP38UB"
      }
    },
    {
      "cell_type": "markdown",
      "source": [
        "#Task 1.4.2: Use the groupby method to create a Series named mean_price_by_state, where the index contains each state in the dataset and the values correspond to the mean house price for that state. Make sure your Series is sorted from highest to lowest mean price."
      ],
      "metadata": {
        "id": "BTVYzaxS4Bl4"
      }
    },
    {
      "cell_type": "code",
      "source": [
        "# Declare variable `mean_price_by_state`\n",
        "mean_price_by_state = df.groupby(\"state\")[\"price_usd\"].mean().sort_values(ascending=False)\n",
        "\n",
        "\n",
        "# Print object type, shape, and head\n",
        "print(\"mean_price_by_state type:\", type(mean_price_by_state))\n",
        "print(\"mean_price_by_state shape:\", mean_price_by_state.shape)\n",
        "mean_price_by_state.head()"
      ],
      "metadata": {
        "id": "9rLLmczv4A5I"
      },
      "execution_count": null,
      "outputs": []
    },
    {
      "cell_type": "markdown",
      "source": [
        "# Task 1.4.3: Use mean_price_by_state to create a bar chart of your results. Make sure the states are sorted from the highest to lowest mean, that you label the x-axis as \"State\" and the y-axis as \"Mean Price [USD]\", and give the chart the title \"Mean House Price by State\"."
      ],
      "metadata": {
        "id": "LJqyz9H94fdI"
      }
    },
    {
      "cell_type": "code",
      "source": [
        "mean_price_by_state.plot(\n",
        "    kind=\"bar\",\n",
        "    xlabel=\"State\",\n",
        "    ylabel=\"Price [USD]\",\n",
        "    title=\"Mean House Price by State\"\n",
        ");"
      ],
      "metadata": {
        "id": "OjJolefU0Klw"
      },
      "execution_count": null,
      "outputs": []
    },
    {
      "cell_type": "markdown",
      "source": [
        "**Task 1.4.4: Create a new column in df called \"price_per_m2\". This should be the price for each house divided by it's size**"
      ],
      "metadata": {
        "id": "pRSLUSZp5h6g"
      }
    },
    {
      "cell_type": "code",
      "source": [
        "# Create \"price_per_m2\" column\n",
        "df[\"price_per_m2\"] = df[\"price_usd\"]/df[\"area_m2\"]\n",
        "\n",
        "# Print object type, shape, and head\n",
        "print(\"df type:\", type(df))\n",
        "print(\"df shape:\", df.shape)\n",
        "df.head()"
      ],
      "metadata": {
        "id": "FtcpKZUL5huK"
      },
      "execution_count": null,
      "outputs": []
    },
    {
      "cell_type": "markdown",
      "source": [
        "**Task 1.4.5: First, use the groupby method to create a Series where the index contains each state in the dataset and the values correspond to the mean house price per m2 for that state. Then use the Series to create a bar chart of your results. Make sure the states are sorted from the highest to lowest mean, that you label the x-axis as \"State\" and the y-axis as \"Mean Price per M^2[USD]\", and give the chart the title \"Mean House Price per M^2 by State\"**"
      ],
      "metadata": {
        "id": "ZIXvCvwz515K"
      }
    },
    {
      "cell_type": "code",
      "source": [
        "# Group `df` by \"state\", create bar chart of \"price_per_m2\"\n",
        "df.groupby(\"state\")[\"price_per_m2\"].mean().sort_values(ascending=False).plot(\n",
        "    kind=\"bar\",\n",
        "    xlabel=\"State\",\n",
        "    ylabel=\"Mean Price per M^2 [USD]\",\n",
        "    title=\"Mean House Price per M^2 by State\"\n",
        ");"
      ],
      "metadata": {
        "id": "Fhhzupf5pKSQ"
      },
      "execution_count": null,
      "outputs": []
    },
    {
      "cell_type": "markdown",
      "source": [
        "From our previous question, we know that the location of a home affects its price (especially if it's in Mexico City), but what about home size? Does the size of a house influence price?\n",
        "\n",
        "A scatter plot can be helpful when evaluating the relationship between two columns because it lets you see if two variables are correlated — in this case, if an increase in home size is associated with an increase in price."
      ],
      "metadata": {
        "id": "QZDkb-NL6P0h"
      }
    },
    {
      "cell_type": "markdown",
      "source": [
        "**bold textTask 1.4.6: Create a scatter plot from df that represents price as a function of size. In other words, \"area_m2\" should be on the x-axis, and \"price_usd\" should be on the y-axis. Be sure to use expressive axis labels (\"Area [sq meters]\" and \"Price [USD]\", respectively).**"
      ],
      "metadata": {
        "id": "qQABvLKm6TLS"
      }
    },
    {
      "cell_type": "code",
      "source": [
        "# Create scatter plot of \"price_usd\" vs \"area_m2\"\n",
        "plt.scatter(x=df[\"area_m2\"], y=df[\"price_usd\"])\n",
        "# Add x-axis label\n",
        "\n",
        "plt.xlabel(\"Area [sq meters]\")\n",
        "# Add y-axis label\n",
        "plt.ylabel(\"Price [USD]\")\n",
        "# Add title\n",
        "\n",
        "\n",
        "plt.title(\"Price vs Area\");\n"
      ],
      "metadata": {
        "id": "PY72yDSb6XQ-"
      },
      "execution_count": null,
      "outputs": []
    },
    {
      "cell_type": "markdown",
      "source": [
        "**Task 1.4.7: Using the corr method, calculate the Pearson correlation coefficient for \"area_m2\" and \"price_usd\".**"
      ],
      "metadata": {
        "id": "bXgsMRuv6p6y"
      }
    },
    {
      "cell_type": "code",
      "source": [
        "# Calculate correlation of \"price_usd\" and \"area_m2\"\n",
        "p_correlation = df[\"area_m2\"].corr(df[\"price_usd\"])\n",
        "\n",
        "# Print correlation coefficient\n",
        "print(\"Correlation of 'area_m2' and 'price_usd' (all Mexico):\", p_correlation)"
      ],
      "metadata": {
        "id": "AE3N6fgj7XA5"
      },
      "execution_count": null,
      "outputs": []
    },
    {
      "cell_type": "markdown",
      "source": [
        "**bold text Task 1.4.8: Create a new DataFrame named df_morelos. It should include all the houses from df that are in the state of Morelos.**"
      ],
      "metadata": {
        "id": "iPtbbQQD6wmr"
      }
    },
    {
      "cell_type": "code",
      "source": [
        "# Declare variable `df_morelos` by subsetting `df`\n",
        "df_morelos = df[df[\"state\"] ==\"Morelos\"]\n",
        "\n",
        "# Print object type, shape, and head\n",
        "print(\"df_morelos type:\", type(df_morelos))\n",
        "print(\"df_morelos shape:\", df_morelos.shape)\n",
        "df_morelos.head()"
      ],
      "metadata": {
        "id": "yIYlwEB97X4J"
      },
      "execution_count": null,
      "outputs": []
    },
    {
      "cell_type": "markdown",
      "source": [
        "**bold text Task 1.4.9: Using df_morelos, create a scatter plot that shows price vs area. Make sure to use the same axis labels as your last scatter plot. The title should be \"Morelos: Price vs. Area\".**"
      ],
      "metadata": {
        "id": "2i4A9ajD6z6A"
      }
    },
    {
      "cell_type": "code",
      "source": [
        "# Create scatter plot of \"price_usd\" vs \"area_m2\" in Morelos\n",
        "plt.scatter(x=df_morelos[\"area_m2\"], y=df_morelos[\"price_usd\"])\n",
        "# Add x-axis label\n",
        "plt.xlabel(\"Area [sq meters]\")\n",
        "# Add y-axis label\n",
        "plt.ylabel(\"Price [USD]\")\n",
        "# Add title\n",
        "plt.title(\"Morelos: Price vs Area\");"
      ],
      "metadata": {
        "id": "6Ju6FH-f78-x"
      },
      "execution_count": null,
      "outputs": []
    },
    {
      "cell_type": "markdown",
      "source": [
        "**bold text Task 1.4.10: Using the corr method, calculate the Pearson correlation coefficient for \"area_m2\" and \"price_usd\" in df_morelos.**"
      ],
      "metadata": {
        "id": "TxSyV25b66HJ"
      }
    },
    {
      "cell_type": "code",
      "source": [
        "# Calculate correlation of \"price_usd\" and \"area_m2\" in `df_morelos`\n",
        "p_correlation = df_morelos[\"area_m2\"].corr(df_morelos[\"price_usd\"])\n",
        "\n",
        "# Print correlation coefficient\n",
        "print(\"Correlation of 'area_m2' and 'price_usd' (Morelos):\", p_correlation)"
      ],
      "metadata": {
        "id": "w7Jq-NBt7965"
      },
      "execution_count": null,
      "outputs": []
    },
    {
      "cell_type": "markdown",
      "source": [
        "**bold text Task 1.4.11: First, create a new DataFrame called df_mexico_city that includes all the observations from df that are part of the Distrito Federal. Next, create a scatter plot that shows price vs area. Don't forget to label the x- and y-axis and use the title \"Mexico City: Price vs. Area\". Finally, calculate the correlation coefficient for \"area_m2\" and \"price_usd\" in df_mexico_city.**"
      ],
      "metadata": {
        "id": "UwUb5ZLF6755"
      }
    },
    {
      "cell_type": "code",
      "source": [
        "import matplotlib.pyplot as plt\n",
        "\n",
        "# Subset 'df' to include only rows where the state is \"Distrito Federal\"\n",
        "df_mexico_city = df[df[\"state\"] == \"Distrito Federal\"]\n",
        "\n",
        "# Print object type and shape\n",
        "print(\"df_mexico_city type:\", type(df_mexico_city))\n",
        "print(\"df_mexico_city shape:\", df_mexico_city.shape)\n",
        "\n",
        "# Create a scatter plot of area vs. price\n",
        "plt.scatter(x=df_mexico_city[\"area_m2\"], y=df_mexico_city[\"price_usd\"])\n",
        "plt.xlabel(\"Area [sq meters]\")\n",
        "plt.ylabel(\"Price [USD]\")\n",
        "plt.title(\"Mexico City: Price vs Area\")\n",
        "plt.show()  # <<< Needed to display the plot in some environments like Jupyter\n",
        "# Calculate the correlation\n",
        "p_correlation = df_mexico_city[\"area_m2\"].corr(df_mexico_city[\"price_usd\"])\n",
        "print(\"Correlation of 'area_m2' and 'price_usd' (Mexico City):\", p_correlation)"
      ],
      "metadata": {
        "id": "xvou7e_L7C-h"
      },
      "execution_count": null,
      "outputs": []
    },
    {
      "cell_type": "markdown",
      "source": [
        "Looking at the scatter plot and correlation coefficient, there's see a weak relationship between size and price. How should we interpret this?\n",
        "\n",
        "One interpretation is that the relationship we see between size and price in many states doesn't hold true in the country's biggest and most economically powerful urban center because there are other factors that have a larger influence on price. In fact, in the next project, we're going to look at another important Latin American city — Buenos Aires, Argentina — and build a model that predicts housing price by taking much more than size into account."
      ],
      "metadata": {
        "id": "DtVSx_r47CL6"
      }
    },
    {
      "cell_type": "markdown",
      "source": [
        "1\n",
        "**Task 1.5.1 Import the CSV file data/brasil-real-estate-1.csv into the DataFrame df1.**"
      ],
      "metadata": {
        "id": "uViNKw6E4pCD"
      }
    },
    {
      "cell_type": "code",
      "source": [
        "df1 = pd.read_csv(\"data/brasil-real-estate-1.csv\")\n",
        "df1.head()"
      ],
      "metadata": {
        "id": "Fcp0mFRj43n7"
      },
      "execution_count": null,
      "outputs": []
    },
    {
      "cell_type": "markdown",
      "source": [
        "\n",
        "**Task 1.5.2 Drop all rows with NaN values from the DataFrame df1.**"
      ],
      "metadata": {
        "id": "NglU_raM46U2"
      }
    },
    {
      "cell_type": "code",
      "source": [
        "df1.dropna(inplace=True)\n",
        "df1.head()"
      ],
      "metadata": {
        "id": "AoQqIMpb5ER7"
      },
      "execution_count": null,
      "outputs": []
    },
    {
      "cell_type": "markdown",
      "source": [
        "**Use the \"lat-lon\" column to create two separate columns in df1: \"lat\" and \"lon\". Make sure that the data type for these new columns is float.**"
      ],
      "metadata": {
        "id": "xeIwOQGG7Cpz"
      }
    },
    {
      "cell_type": "markdown",
      "source": [],
      "metadata": {
        "id": "LX6G1Wxd5Hkc"
      }
    },
    {
      "cell_type": "code",
      "source": [
        "df1[[\"lat\", \"lon\"]] = df1[\"lat-lon\"].str.split(\",\",expand=True)\n",
        "df1[\"lat\"] = df1[\"lat\"].astype(float)\n",
        "df1[\"lon\"] = df1[\"lon\"].astype(float)\n",
        "df1.head()"
      ],
      "metadata": {
        "id": "s-EaG0H65J0D"
      },
      "execution_count": null,
      "outputs": []
    },
    {
      "cell_type": "markdown",
      "source": [
        "**Use the \"place_with_parent_names\" column to create a \"state\" column for df1. (Note that the state name always appears after \"|Brasil|\" in each string.)**"
      ],
      "metadata": {
        "id": "yaYo4TKS7Vzr"
      }
    },
    {
      "cell_type": "code",
      "source": [
        "df1[\"state\"] = df1[\"place_with_parent_names\"].str.split(\"|\" , expand=True)[2]\n",
        "df1.head()"
      ],
      "metadata": {
        "id": "osadZloA5KjC"
      },
      "execution_count": null,
      "outputs": []
    },
    {
      "cell_type": "markdown",
      "source": [
        "**Transform the \"price_usd\" column of df1 so that all values are floating-point numbers instead of strings.**"
      ],
      "metadata": {
        "id": "pxvPunTr7XHr"
      }
    },
    {
      "cell_type": "code",
      "source": [
        "df1[\"price_usd\"] = (\n",
        "    df1[\"price_usd\"]\n",
        "    .astype(str)                             # Ensure all values are strings\n",
        "    .str.replace(\"$\", \"\", regex=False)       # Remove dollar sign\n",
        "    .str.replace(\",\", \"\", regex=False)       # Remove comma\n",
        "    .astype(float)                           # Convert cleaned string to float\n",
        ")\n",
        "df1.head()"
      ],
      "metadata": {
        "id": "KSDp9RX_5OIT"
      },
      "execution_count": null,
      "outputs": []
    },
    {
      "cell_type": "markdown",
      "source": [
        "**Drop the \"lat-lon\" and \"place_with_parent_names\" columns from df1.**"
      ],
      "metadata": {
        "id": "Z3T3vK2q7gcd"
      }
    },
    {
      "cell_type": "code",
      "source": [
        "df1.drop(columns=[\"lat-lon\", \"place_with_parent_names\"], errors=\"ignore\", inplace=True)\n",
        "\n",
        "\n",
        "df1.head()"
      ],
      "metadata": {
        "id": "PzXZf-5F5QLb"
      },
      "execution_count": null,
      "outputs": []
    },
    {
      "cell_type": "markdown",
      "source": [
        "**Import the CSV file brasil-real-estate-2.csv into the DataFrame df2.**"
      ],
      "metadata": {
        "id": "uc6wn4_S7k7E"
      }
    },
    {
      "cell_type": "code",
      "source": [
        "df2=pd.read_csv(\"data/brasil-real-estate-2.csv\")\n",
        "df2 = df2.drop(columns=['Unnamed: 0'])\n",
        "df2.head()"
      ],
      "metadata": {
        "id": "CboNQYKE5SKz"
      },
      "execution_count": null,
      "outputs": []
    },
    {
      "cell_type": "markdown",
      "source": [
        "**Use the \"price_brl\" column to create a new column named \"price_usd\". (Keep in mind that, when this data was collected in 2015 and 2016, a US dollar cost 3.19 Brazilian reals.)**"
      ],
      "metadata": {
        "id": "rDOehnYb7p51"
      }
    },
    {
      "cell_type": "code",
      "source": [
        "df2[\"price_brl\"] = df2[\"price_usd\"] /3.19\n",
        "df2.head()"
      ],
      "metadata": {
        "id": "qws8EHbQ5Stl"
      },
      "execution_count": null,
      "outputs": []
    },
    {
      "cell_type": "markdown",
      "source": [
        "**Concatenate df1 and df2 to create a new DataFrame named df.t**"
      ],
      "metadata": {
        "id": "ktnYX6Ik67OL"
      }
    },
    {
      "cell_type": "code",
      "source": [
        "# Step 1: Drop the 'price_brl' column\n",
        "df2.drop(columns=[\"price_brl\"], inplace=True)\n",
        "\n",
        "# Step 2: Drop all rows that contain any NaN values\n",
        "df2.dropna(inplace=True)\n",
        "\n",
        "# Step 3: Confirm changes\n",
        "print(\"Shape after cleanup:\", df2.shape)\n",
        "df2.head()\n"
      ],
      "metadata": {
        "id": "If-FYjYU5WRs"
      },
      "execution_count": null,
      "outputs": []
    },
    {
      "cell_type": "markdown",
      "source": [
        "**Use the describe method to create a DataFrame summary_stats with the summary statistics for the \"area_m2\" and \"price_usd\" columns.**"
      ],
      "metadata": {
        "id": "3x0u1Tt262oj"
      }
    },
    {
      "cell_type": "code",
      "source": [
        "df = pd.concat([df1, df2], ignore_index=True)\n",
        "\n",
        "\n",
        "print(\"df shape:\", df.shape)"
      ],
      "metadata": {
        "id": "1v6eLoIQ5YPr"
      },
      "execution_count": null,
      "outputs": []
    },
    {
      "cell_type": "markdown",
      "source": [
        "***Create a histogram of \"price_usd\". Make sure that the x-axis has the label \"Price [USD]\", the y-axis has the label \"Frequency\", and the plot has the title \"Distribution of Home Prices\". Use Matplotlib (plt)***"
      ],
      "metadata": {
        "id": "FXgacvu-6zcc"
      }
    },
    {
      "cell_type": "code",
      "source": [
        "fig = px.scatter_mapbox(\n",
        "    df,\n",
        "    lat=\"lat\",\n",
        "    lon=\"lon\",\n",
        "    center={\"lat\": -14.2, \"lon\": -51.9},  # Map will be centered on Brazil\n",
        "    width=600,\n",
        "    height=600,\n",
        "    hover_data=[\"price_usd\"],  # Display price when hovering mouse over house\n",
        ")\n",
        "\n",
        "fig.update_layout(mapbox_style=\"open-street-map\")\n",
        "\n",
        "fig.show()"
      ],
      "metadata": {
        "id": "VDr53Isq5aK1"
      },
      "execution_count": null,
      "outputs": []
    },
    {
      "cell_type": "code",
      "source": [
        "summary_stats = df[[\"area_m2\",\"price_usd\"]].describe()\n",
        "summary_stats"
      ],
      "metadata": {
        "id": "dvpdXQ2b5cE0"
      },
      "execution_count": null,
      "outputs": []
    },
    {
      "cell_type": "markdown",
      "source": [
        "Create a histogram of \"price_usd\". Make sure that the x-axis has the label \"Price [USD]\", the y-axis has the label \"Frequency\", and the plot has the title \"Distribution of Home Prices\". Use Matplotlib (plt).\n",
        "\n"
      ],
      "metadata": {
        "id": "jhv5rnfFVjv8"
      }
    },
    {
      "cell_type": "code",
      "source": [
        "# Don't change the code below 👇\n",
        "fig, ax = plt.subplots()\n",
        "\n",
        "# Build histogram\n",
        "ax.hist(df[\"price_usd\"].head(20000), bins=10)\n",
        "\n",
        "# Label axes\n",
        "ax.set_xlabel(\"Price [USD]\")\n",
        "ax.set_ylabel(\"Frequency\")\n",
        "\n",
        "# Add title\n",
        "ax.set_title(\"Distribution of Home Prices\")\n"
      ],
      "metadata": {
        "id": "0Dy-Xul8VlwT"
      },
      "execution_count": null,
      "outputs": []
    },
    {
      "cell_type": "markdown",
      "source": [
        "**Create a horizontal boxplot of \"area_m2\". Make sure that the x-axis has the label \"Area [sq meters]\"and the plot has the title \"Distribution of Home Sizes\". Use Matplotlib (plt).**"
      ],
      "metadata": {
        "id": "SrE9tPOK6sjr"
      }
    },
    {
      "cell_type": "code",
      "source": [
        "# Don't change the code below 👇\n",
        "fig, ax = plt.subplots()\n",
        "\n",
        "# Build horizontal box plot\n",
        "ax.boxplot(df[\"area_m2\"].dropna(), vert=False)\n",
        "\n",
        "# Label x-axis\n",
        "ax.set_xlabel(\"Area [sq meters]\")\n",
        "\n",
        "# Add title\n",
        "ax.set_title(\"Distribution of Home Sizes\")\n",
        "\n",
        "# Optional: Show the plot\n",
        "plt.show()"
      ],
      "metadata": {
        "id": "dVBuZ4DX5gFE"
      },
      "execution_count": null,
      "outputs": []
    },
    {
      "cell_type": "markdown",
      "source": [
        "\n",
        "**Task 1.5.14 Use the groupby method to create a Series named mean_price_by_region that shows the mean home price in each region in Brazil, sorted from smallest to largest.****"
      ],
      "metadata": {
        "id": "98ffd8qv6g7M"
      }
    },
    {
      "cell_type": "code",
      "source": [
        "mean_price_by_region = df.groupby(\"region\")[\"price_usd\"].mean().sort_values()\n",
        "mean_price_by_region"
      ],
      "metadata": {
        "id": "GDpH08QO5eBk"
      },
      "execution_count": null,
      "outputs": []
    },
    {
      "cell_type": "markdown",
      "source": [
        "15\n",
        "#Task 1.5.15\n",
        "\n",
        "**Use mean_price_by_region to create a bar chart. Make sure you label the x-axis as \"Region\" and the y-axis as \"Mean Price [USD]\", and give the chart the title \"Mean Home Price by Region\". Use pandas.**"
      ],
      "metadata": {
        "id": "KdPSQXxW6YEU"
      }
    },
    {
      "cell_type": "code",
      "source": [
        "# Don't change the code below 👇\n",
        "fig, ax = plt.subplots()\n",
        "\n",
        "# Build bar chart, label axes, add title\n",
        "mean_price_by_region.plot(kind='bar', ax=ax)\n",
        "ax.set_xlabel(\"Region\")\n",
        "ax.set_ylabel(\"Mean Price [USD]\")\n",
        "ax.set_title(\"Mean Home Price by Region\")"
      ],
      "metadata": {
        "id": "JCsNbU105jtV"
      },
      "execution_count": null,
      "outputs": []
    },
    {
      "cell_type": "markdown",
      "source": [
        "**Task 1.5.16Create a DataFrame df_south that contains all the homes from df that are in the \"South\" region.**"
      ],
      "metadata": {
        "id": "_OkoFUEE6SGM"
      }
    },
    {
      "cell_type": "code",
      "source": [
        "df_south = df[df[\"region\"] == \"South\"]\n",
        "df_south.head()\n"
      ],
      "metadata": {
        "id": "scV3Xcba5lHq"
      },
      "execution_count": null,
      "outputs": []
    },
    {
      "cell_type": "markdown",
      "source": [
        "**Task 1.5.17Use the value_counts method to create a Series homes_by_state that contains the number of properties in each state in df_south.**"
      ],
      "metadata": {
        "id": "m_no3lTf6LSM"
      }
    },
    {
      "cell_type": "code",
      "source": [
        "homes_by_state = df_south[\"state\"].value_counts()\n",
        "homes_by_state\n"
      ],
      "metadata": {
        "id": "IFLpfUA75nEl"
      },
      "execution_count": null,
      "outputs": []
    },
    {
      "cell_type": "markdown",
      "source": [
        "18\n",
        "Task 1.5.18\n",
        "\n",
        "Create a scatter plot showing price vs. area for the state in df_south that has the largest number of properties. Be sure to label the x-axis \"Area [sq meters]\" and the y-axis \"Price [USD]\"; and use the title \"<name of state>: Price vs. Area\". Use Matplotlib (plt)."
      ],
      "metadata": {
        "id": "Jk0oXu1457W3"
      }
    },
    {
      "cell_type": "code",
      "source": [
        "\n",
        "# Step 1: Find the state with the most properties\n",
        "top_state = df_south[\"state\"].value_counts().idxmax()\n",
        "\n",
        "# Step 2: Subset data for that state\n",
        "df_south_rgs = df_south[df_south[\"state\"] == top_state]\n",
        "\n",
        "# Don't change the code below 👇\n",
        "fig, ax = plt.subplots()\n",
        "\n",
        "# Build scatter plot\n",
        "ax.scatter(df_south_rgs[\"area_m2\"], df_south_rgs[\"price_usd\"])\n",
        "\n",
        "# Label axes\n",
        "ax.set_xlabel(\"Area [sq meters]\")\n",
        "ax.set_ylabel(\"Price [USD]\")\n",
        "\n",
        "# Add title\n",
        "ax.set_title(f\"{top_state}: Price vs. Area\")"
      ],
      "metadata": {
        "id": "mWUP43im6F-D"
      },
      "execution_count": null,
      "outputs": []
    },
    {
      "cell_type": "markdown",
      "source": [
        "19\n",
        "**Task 1.5.19**\n",
        "\n",
        "Create a dictionary south_states_corr, where the keys are the names of the three states in the \"South\" region of Brazil, and their associated values are the correlation coefficient between \"area_m2\" and \"price_usd\" in that state.\n",
        "\n",
        "As an example, here's a dictionary with the states and correlation coefficients for the Southeast region. Since you're looking at a different region, the states and coefficients will be different, but the structure of the dictionary will be the same."
      ],
      "metadata": {
        "id": "xUqZb9XA5zwc"
      }
    },
    {
      "cell_type": "code",
      "source": [
        "# Step 1: Get the list of states in the South region\n",
        "south_states = df_south[\"state\"].unique()\n",
        "\n",
        "# Step 2: Calculate correlation for each state and build the dictionary\n",
        "south_states_corr = {\n",
        "    state: df_south[df_south[\"state\"] == state][\"area_m2\"].corr(df_south[df_south[\"state\"] == state][\"price_usd\"])\n",
        "    for state in south_states\n",
        "}\n",
        "\n",
        "south_states_corr"
      ],
      "metadata": {
        "id": "pPkxnEG55sC_"
      },
      "execution_count": null,
      "outputs": []
    }
  ]
}